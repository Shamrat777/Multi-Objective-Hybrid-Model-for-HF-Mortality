{
 "cells": [
  {
   "cell_type": "code",
   "execution_count": 1,
   "id": "e7844b25-5379-4f85-b536-17e80fa98b15",
   "metadata": {},
   "outputs": [
    {
     "name": "stdout",
     "output_type": "stream",
     "text": [
      "Collecting pymoo\n",
      "  Downloading pymoo-0.6.1.1-cp39-cp39-win_amd64.whl.metadata (5.3 kB)\n",
      "Requirement already satisfied: numpy>=1.15 in c:\\users\\dcl\\anaconda3\\lib\\site-packages (from pymoo) (1.22.4)\n",
      "Requirement already satisfied: scipy>=1.1 in c:\\users\\dcl\\anaconda3\\lib\\site-packages (from pymoo) (1.12.0)\n",
      "Requirement already satisfied: matplotlib>=3 in c:\\users\\dcl\\anaconda3\\lib\\site-packages (from pymoo) (3.8.0)\n",
      "Collecting autograd>=1.4 (from pymoo)\n",
      "  Downloading autograd-1.6.2-py3-none-any.whl.metadata (706 bytes)\n",
      "Collecting cma==3.2.2 (from pymoo)\n",
      "  Downloading cma-3.2.2-py2.py3-none-any.whl.metadata (8.0 kB)\n",
      "Collecting alive-progress (from pymoo)\n",
      "  Downloading alive_progress-3.1.5-py3-none-any.whl.metadata (68 kB)\n",
      "     ---------------------------------------- 0.0/68.4 kB ? eta -:--:--\n",
      "     ----- ---------------------------------- 10.2/68.4 kB ? eta -:--:--\n",
      "     ----------------- -------------------- 30.7/68.4 kB 660.6 kB/s eta 0:00:01\n",
      "     -------------------------------------- 68.4/68.4 kB 625.2 kB/s eta 0:00:00\n",
      "Requirement already satisfied: dill in c:\\users\\dcl\\anaconda3\\lib\\site-packages (from pymoo) (0.3.7)\n",
      "Requirement already satisfied: Deprecated in c:\\users\\dcl\\anaconda3\\lib\\site-packages (from pymoo) (1.2.13)\n",
      "Requirement already satisfied: future>=0.15.2 in c:\\users\\dcl\\anaconda3\\lib\\site-packages (from autograd>=1.4->pymoo) (0.18.3)\n",
      "Requirement already satisfied: contourpy>=1.0.1 in c:\\users\\dcl\\anaconda3\\lib\\site-packages (from matplotlib>=3->pymoo) (1.2.0)\n",
      "Requirement already satisfied: cycler>=0.10 in c:\\users\\dcl\\anaconda3\\lib\\site-packages (from matplotlib>=3->pymoo) (0.11.0)\n",
      "Requirement already satisfied: fonttools>=4.22.0 in c:\\users\\dcl\\anaconda3\\lib\\site-packages (from matplotlib>=3->pymoo) (4.25.0)\n",
      "Requirement already satisfied: kiwisolver>=1.0.1 in c:\\users\\dcl\\anaconda3\\lib\\site-packages (from matplotlib>=3->pymoo) (1.4.4)\n",
      "Requirement already satisfied: packaging>=20.0 in c:\\users\\dcl\\anaconda3\\lib\\site-packages (from matplotlib>=3->pymoo) (23.2)\n",
      "Requirement already satisfied: pillow>=6.2.0 in c:\\users\\dcl\\anaconda3\\lib\\site-packages (from matplotlib>=3->pymoo) (10.2.0)\n",
      "Requirement already satisfied: pyparsing>=2.3.1 in c:\\users\\dcl\\anaconda3\\lib\\site-packages (from matplotlib>=3->pymoo) (3.0.9)\n",
      "Requirement already satisfied: python-dateutil>=2.7 in c:\\users\\dcl\\anaconda3\\lib\\site-packages (from matplotlib>=3->pymoo) (2.8.2)\n",
      "Requirement already satisfied: importlib-resources>=3.2.0 in c:\\users\\dcl\\anaconda3\\lib\\site-packages (from matplotlib>=3->pymoo) (6.1.1)\n",
      "Collecting about-time==4.2.1 (from alive-progress->pymoo)\n",
      "  Downloading about_time-4.2.1-py3-none-any.whl.metadata (13 kB)\n",
      "Collecting grapheme==0.6.0 (from alive-progress->pymoo)\n",
      "  Downloading grapheme-0.6.0.tar.gz (207 kB)\n",
      "     ---------------------------------------- 0.0/207.3 kB ? eta -:--:--\n",
      "     --------------- ----------------------- 81.9/207.3 kB 4.8 MB/s eta 0:00:01\n",
      "     ------------------------------- ------ 174.1/207.3 kB 2.1 MB/s eta 0:00:01\n",
      "     -------------------------------------- 207.3/207.3 kB 2.1 MB/s eta 0:00:00\n",
      "  Preparing metadata (setup.py): started\n",
      "  Preparing metadata (setup.py): finished with status 'done'\n",
      "Requirement already satisfied: wrapt<2,>=1.10 in c:\\users\\dcl\\anaconda3\\lib\\site-packages (from Deprecated->pymoo) (1.14.1)\n",
      "Requirement already satisfied: zipp>=3.1.0 in c:\\users\\dcl\\anaconda3\\lib\\site-packages (from importlib-resources>=3.2.0->matplotlib>=3->pymoo) (3.17.0)\n",
      "Requirement already satisfied: six>=1.5 in c:\\users\\dcl\\anaconda3\\lib\\site-packages (from python-dateutil>=2.7->matplotlib>=3->pymoo) (1.16.0)\n",
      "Downloading pymoo-0.6.1.1-cp39-cp39-win_amd64.whl (989 kB)\n",
      "   ---------------------------------------- 0.0/989.7 kB ? eta -:--:--\n",
      "   --------- ------------------------------ 225.3/989.7 kB 6.9 MB/s eta 0:00:01\n",
      "   ---------------- ----------------------- 409.6/989.7 kB 4.2 MB/s eta 0:00:01\n",
      "   ------------------ --------------------- 450.6/989.7 kB 3.5 MB/s eta 0:00:01\n",
      "   ------------------ --------------------- 450.6/989.7 kB 3.5 MB/s eta 0:00:01\n",
      "   ------------------ --------------------- 450.6/989.7 kB 3.5 MB/s eta 0:00:01\n",
      "   -------------------- ------------------- 501.8/989.7 kB 1.8 MB/s eta 0:00:01\n",
      "   ----------------------- ---------------- 573.4/989.7 kB 1.8 MB/s eta 0:00:01\n",
      "   ------------------------ --------------- 614.4/989.7 kB 1.8 MB/s eta 0:00:01\n",
      "   ------------------------ --------------- 614.4/989.7 kB 1.8 MB/s eta 0:00:01\n",
      "   ------------------------ --------------- 614.4/989.7 kB 1.8 MB/s eta 0:00:01\n",
      "   ------------------------------- -------- 768.0/989.7 kB 1.5 MB/s eta 0:00:01\n",
      "   ------------------------------------ --- 901.1/989.7 kB 1.6 MB/s eta 0:00:01\n",
      "   ---------------------------------------- 989.7/989.7 kB 1.6 MB/s eta 0:00:00\n",
      "Downloading cma-3.2.2-py2.py3-none-any.whl (249 kB)\n",
      "   ---------------------------------------- 0.0/249.1 kB ? eta -:--:--\n",
      "   ----------------------- ---------------- 143.4/249.1 kB 4.3 MB/s eta 0:00:01\n",
      "   --------------------------- ------------ 174.1/249.1 kB 3.5 MB/s eta 0:00:01\n",
      "   --------------------------- ------------ 174.1/249.1 kB 3.5 MB/s eta 0:00:01\n",
      "   --------------------------- ------------ 174.1/249.1 kB 3.5 MB/s eta 0:00:01\n",
      "   --------------------------- ------------ 174.1/249.1 kB 3.5 MB/s eta 0:00:01\n",
      "   --------------------------- ------------ 174.1/249.1 kB 3.5 MB/s eta 0:00:01\n",
      "   ----------------------------- -------- 194.6/249.1 kB 620.6 kB/s eta 0:00:01\n",
      "   ----------------------------- -------- 194.6/249.1 kB 620.6 kB/s eta 0:00:01\n",
      "   ----------------------------- -------- 194.6/249.1 kB 620.6 kB/s eta 0:00:01\n",
      "   ------------------------------- ------ 204.8/249.1 kB 445.2 kB/s eta 0:00:01\n",
      "   ------------------------------- ------ 204.8/249.1 kB 445.2 kB/s eta 0:00:01\n",
      "   ------------------------------- ------ 204.8/249.1 kB 445.2 kB/s eta 0:00:01\n",
      "   ----------------------------------- -- 235.5/249.1 kB 389.8 kB/s eta 0:00:01\n",
      "   -------------------------------------- 249.1/249.1 kB 402.1 kB/s eta 0:00:00\n",
      "Downloading autograd-1.6.2-py3-none-any.whl (49 kB)\n",
      "   ---------------------------------------- 0.0/49.3 kB ? eta -:--:--\n",
      "   ---------------------------------------- 49.3/49.3 kB 1.3 MB/s eta 0:00:00\n",
      "Downloading alive_progress-3.1.5-py3-none-any.whl (75 kB)\n",
      "   ---------------------------------------- 0.0/76.0 kB ? eta -:--:--\n",
      "   ---------------------------------------- 76.0/76.0 kB 4.1 MB/s eta 0:00:00\n",
      "Downloading about_time-4.2.1-py3-none-any.whl (13 kB)\n",
      "Building wheels for collected packages: grapheme\n",
      "  Building wheel for grapheme (setup.py): started\n",
      "  Building wheel for grapheme (setup.py): finished with status 'done'\n",
      "  Created wheel for grapheme: filename=grapheme-0.6.0-py3-none-any.whl size=210117 sha256=e3dcc235948e081b30e760678dc0a5049f9f77082244bda5bdb52661cb425240\n",
      "  Stored in directory: c:\\users\\dcl\\appdata\\local\\pip\\cache\\wheels\\91\\a8\\bc\\5b55a10f763ee2c066ff2d94058d7dd64d570fc45adc027b3d\n",
      "Successfully built grapheme\n",
      "Installing collected packages: grapheme, cma, autograd, about-time, alive-progress, pymoo\n",
      "Successfully installed about-time-4.2.1 alive-progress-3.1.5 autograd-1.6.2 cma-3.2.2 grapheme-0.6.0 pymoo-0.6.1.1\n",
      "Note: you may need to restart the kernel to use updated packages.\n"
     ]
    }
   ],
   "source": [
    "pip install pymoo"
   ]
  },
  {
   "cell_type": "code",
   "execution_count": 1,
   "id": "75b21faf-c1e9-4e54-ba4b-af8232ba518c",
   "metadata": {},
   "outputs": [],
   "source": [
    "import pymoo\n",
    "import numpy as np\n",
    "import pandas as pd\n",
    "from sklearn.model_selection import train_test_split\n",
    "from sklearn.feature_selection import mutual_info_classif\n",
    "from sklearn.metrics import accuracy_score\n",
    "from sklearn.ensemble import RandomForestClassifier\n",
    "from pymoo.algorithms.moo.nsga2 import NSGA2\n",
    "from pymoo.core.problem import ElementwiseProblem\n",
    "from pymoo.optimize import minimize\n",
    "import matplotlib.pyplot as plt\n",
    "from pymoo.indicators.hv import Hypervolume"
   ]
  },
  {
   "cell_type": "code",
   "execution_count": 2,
   "id": "017004b4-367d-4e17-93fc-04efa71d597d",
   "metadata": {},
   "outputs": [],
   "source": [
    "df = pd.read_csv('heart_failure_clinical_records_dataset.csv')"
   ]
  },
  {
   "cell_type": "code",
   "execution_count": 57,
   "id": "4c2afa39-1a11-4a4d-8391-4f8f0a8b8a6b",
   "metadata": {},
   "outputs": [
    {
     "data": {
      "text/html": [
       "<div>\n",
       "<style scoped>\n",
       "    .dataframe tbody tr th:only-of-type {\n",
       "        vertical-align: middle;\n",
       "    }\n",
       "\n",
       "    .dataframe tbody tr th {\n",
       "        vertical-align: top;\n",
       "    }\n",
       "\n",
       "    .dataframe thead th {\n",
       "        text-align: right;\n",
       "    }\n",
       "</style>\n",
       "<table border=\"1\" class=\"dataframe\">\n",
       "  <thead>\n",
       "    <tr style=\"text-align: right;\">\n",
       "      <th></th>\n",
       "      <th>age</th>\n",
       "      <th>anaemia</th>\n",
       "      <th>creatinine_phosphokinase</th>\n",
       "      <th>diabetes</th>\n",
       "      <th>ejection_fraction</th>\n",
       "      <th>high_blood_pressure</th>\n",
       "      <th>platelets</th>\n",
       "      <th>serum_creatinine</th>\n",
       "      <th>serum_sodium</th>\n",
       "      <th>sex</th>\n",
       "      <th>smoking</th>\n",
       "      <th>time</th>\n",
       "      <th>DEATH_EVENT</th>\n",
       "    </tr>\n",
       "  </thead>\n",
       "  <tbody>\n",
       "    <tr>\n",
       "      <th>0</th>\n",
       "      <td>75.0</td>\n",
       "      <td>0</td>\n",
       "      <td>582</td>\n",
       "      <td>0</td>\n",
       "      <td>20</td>\n",
       "      <td>1</td>\n",
       "      <td>265000.00</td>\n",
       "      <td>1.9</td>\n",
       "      <td>130</td>\n",
       "      <td>1</td>\n",
       "      <td>0</td>\n",
       "      <td>4</td>\n",
       "      <td>1</td>\n",
       "    </tr>\n",
       "    <tr>\n",
       "      <th>1</th>\n",
       "      <td>55.0</td>\n",
       "      <td>0</td>\n",
       "      <td>7861</td>\n",
       "      <td>0</td>\n",
       "      <td>38</td>\n",
       "      <td>0</td>\n",
       "      <td>263358.03</td>\n",
       "      <td>1.1</td>\n",
       "      <td>136</td>\n",
       "      <td>1</td>\n",
       "      <td>0</td>\n",
       "      <td>6</td>\n",
       "      <td>1</td>\n",
       "    </tr>\n",
       "    <tr>\n",
       "      <th>2</th>\n",
       "      <td>65.0</td>\n",
       "      <td>0</td>\n",
       "      <td>146</td>\n",
       "      <td>0</td>\n",
       "      <td>20</td>\n",
       "      <td>0</td>\n",
       "      <td>162000.00</td>\n",
       "      <td>1.3</td>\n",
       "      <td>129</td>\n",
       "      <td>1</td>\n",
       "      <td>1</td>\n",
       "      <td>7</td>\n",
       "      <td>1</td>\n",
       "    </tr>\n",
       "    <tr>\n",
       "      <th>3</th>\n",
       "      <td>50.0</td>\n",
       "      <td>1</td>\n",
       "      <td>111</td>\n",
       "      <td>0</td>\n",
       "      <td>20</td>\n",
       "      <td>0</td>\n",
       "      <td>210000.00</td>\n",
       "      <td>1.9</td>\n",
       "      <td>137</td>\n",
       "      <td>1</td>\n",
       "      <td>0</td>\n",
       "      <td>7</td>\n",
       "      <td>1</td>\n",
       "    </tr>\n",
       "    <tr>\n",
       "      <th>4</th>\n",
       "      <td>65.0</td>\n",
       "      <td>1</td>\n",
       "      <td>160</td>\n",
       "      <td>1</td>\n",
       "      <td>20</td>\n",
       "      <td>0</td>\n",
       "      <td>327000.00</td>\n",
       "      <td>2.7</td>\n",
       "      <td>116</td>\n",
       "      <td>0</td>\n",
       "      <td>0</td>\n",
       "      <td>8</td>\n",
       "      <td>1</td>\n",
       "    </tr>\n",
       "    <tr>\n",
       "      <th>...</th>\n",
       "      <td>...</td>\n",
       "      <td>...</td>\n",
       "      <td>...</td>\n",
       "      <td>...</td>\n",
       "      <td>...</td>\n",
       "      <td>...</td>\n",
       "      <td>...</td>\n",
       "      <td>...</td>\n",
       "      <td>...</td>\n",
       "      <td>...</td>\n",
       "      <td>...</td>\n",
       "      <td>...</td>\n",
       "      <td>...</td>\n",
       "    </tr>\n",
       "    <tr>\n",
       "      <th>294</th>\n",
       "      <td>62.0</td>\n",
       "      <td>0</td>\n",
       "      <td>61</td>\n",
       "      <td>1</td>\n",
       "      <td>38</td>\n",
       "      <td>1</td>\n",
       "      <td>155000.00</td>\n",
       "      <td>1.1</td>\n",
       "      <td>143</td>\n",
       "      <td>1</td>\n",
       "      <td>1</td>\n",
       "      <td>270</td>\n",
       "      <td>0</td>\n",
       "    </tr>\n",
       "    <tr>\n",
       "      <th>295</th>\n",
       "      <td>55.0</td>\n",
       "      <td>0</td>\n",
       "      <td>1820</td>\n",
       "      <td>0</td>\n",
       "      <td>38</td>\n",
       "      <td>0</td>\n",
       "      <td>270000.00</td>\n",
       "      <td>1.2</td>\n",
       "      <td>139</td>\n",
       "      <td>0</td>\n",
       "      <td>0</td>\n",
       "      <td>271</td>\n",
       "      <td>0</td>\n",
       "    </tr>\n",
       "    <tr>\n",
       "      <th>296</th>\n",
       "      <td>45.0</td>\n",
       "      <td>0</td>\n",
       "      <td>2060</td>\n",
       "      <td>1</td>\n",
       "      <td>60</td>\n",
       "      <td>0</td>\n",
       "      <td>742000.00</td>\n",
       "      <td>0.8</td>\n",
       "      <td>138</td>\n",
       "      <td>0</td>\n",
       "      <td>0</td>\n",
       "      <td>278</td>\n",
       "      <td>0</td>\n",
       "    </tr>\n",
       "    <tr>\n",
       "      <th>297</th>\n",
       "      <td>45.0</td>\n",
       "      <td>0</td>\n",
       "      <td>2413</td>\n",
       "      <td>0</td>\n",
       "      <td>38</td>\n",
       "      <td>0</td>\n",
       "      <td>140000.00</td>\n",
       "      <td>1.4</td>\n",
       "      <td>140</td>\n",
       "      <td>1</td>\n",
       "      <td>1</td>\n",
       "      <td>280</td>\n",
       "      <td>0</td>\n",
       "    </tr>\n",
       "    <tr>\n",
       "      <th>298</th>\n",
       "      <td>50.0</td>\n",
       "      <td>0</td>\n",
       "      <td>196</td>\n",
       "      <td>0</td>\n",
       "      <td>45</td>\n",
       "      <td>0</td>\n",
       "      <td>395000.00</td>\n",
       "      <td>1.6</td>\n",
       "      <td>136</td>\n",
       "      <td>1</td>\n",
       "      <td>1</td>\n",
       "      <td>285</td>\n",
       "      <td>0</td>\n",
       "    </tr>\n",
       "  </tbody>\n",
       "</table>\n",
       "<p>299 rows × 13 columns</p>\n",
       "</div>"
      ],
      "text/plain": [
       "      age  anaemia  creatinine_phosphokinase  diabetes  ejection_fraction  \\\n",
       "0    75.0        0                       582         0                 20   \n",
       "1    55.0        0                      7861         0                 38   \n",
       "2    65.0        0                       146         0                 20   \n",
       "3    50.0        1                       111         0                 20   \n",
       "4    65.0        1                       160         1                 20   \n",
       "..    ...      ...                       ...       ...                ...   \n",
       "294  62.0        0                        61         1                 38   \n",
       "295  55.0        0                      1820         0                 38   \n",
       "296  45.0        0                      2060         1                 60   \n",
       "297  45.0        0                      2413         0                 38   \n",
       "298  50.0        0                       196         0                 45   \n",
       "\n",
       "     high_blood_pressure  platelets  serum_creatinine  serum_sodium  sex  \\\n",
       "0                      1  265000.00               1.9           130    1   \n",
       "1                      0  263358.03               1.1           136    1   \n",
       "2                      0  162000.00               1.3           129    1   \n",
       "3                      0  210000.00               1.9           137    1   \n",
       "4                      0  327000.00               2.7           116    0   \n",
       "..                   ...        ...               ...           ...  ...   \n",
       "294                    1  155000.00               1.1           143    1   \n",
       "295                    0  270000.00               1.2           139    0   \n",
       "296                    0  742000.00               0.8           138    0   \n",
       "297                    0  140000.00               1.4           140    1   \n",
       "298                    0  395000.00               1.6           136    1   \n",
       "\n",
       "     smoking  time  DEATH_EVENT  \n",
       "0          0     4            1  \n",
       "1          0     6            1  \n",
       "2          1     7            1  \n",
       "3          0     7            1  \n",
       "4          0     8            1  \n",
       "..       ...   ...          ...  \n",
       "294        1   270            0  \n",
       "295        0   271            0  \n",
       "296        0   278            0  \n",
       "297        1   280            0  \n",
       "298        1   285            0  \n",
       "\n",
       "[299 rows x 13 columns]"
      ]
     },
     "execution_count": 57,
     "metadata": {},
     "output_type": "execute_result"
    }
   ],
   "source": [
    "df"
   ]
  },
  {
   "cell_type": "code",
   "execution_count": 4,
   "id": "19ac7316-a1e4-4bae-a215-51a754e0a48f",
   "metadata": {},
   "outputs": [
    {
     "data": {
      "text/html": [
       "<div>\n",
       "<style scoped>\n",
       "    .dataframe tbody tr th:only-of-type {\n",
       "        vertical-align: middle;\n",
       "    }\n",
       "\n",
       "    .dataframe tbody tr th {\n",
       "        vertical-align: top;\n",
       "    }\n",
       "\n",
       "    .dataframe thead th {\n",
       "        text-align: right;\n",
       "    }\n",
       "</style>\n",
       "<table border=\"1\" class=\"dataframe\">\n",
       "  <thead>\n",
       "    <tr style=\"text-align: right;\">\n",
       "      <th></th>\n",
       "      <th>creatinine_phosphokinase</th>\n",
       "      <th>platelets</th>\n",
       "    </tr>\n",
       "  </thead>\n",
       "  <tbody>\n",
       "    <tr>\n",
       "      <th>0</th>\n",
       "      <td>582</td>\n",
       "      <td>265000.00</td>\n",
       "    </tr>\n",
       "    <tr>\n",
       "      <th>1</th>\n",
       "      <td>7861</td>\n",
       "      <td>263358.03</td>\n",
       "    </tr>\n",
       "    <tr>\n",
       "      <th>2</th>\n",
       "      <td>146</td>\n",
       "      <td>162000.00</td>\n",
       "    </tr>\n",
       "    <tr>\n",
       "      <th>3</th>\n",
       "      <td>111</td>\n",
       "      <td>210000.00</td>\n",
       "    </tr>\n",
       "    <tr>\n",
       "      <th>4</th>\n",
       "      <td>160</td>\n",
       "      <td>327000.00</td>\n",
       "    </tr>\n",
       "    <tr>\n",
       "      <th>...</th>\n",
       "      <td>...</td>\n",
       "      <td>...</td>\n",
       "    </tr>\n",
       "    <tr>\n",
       "      <th>294</th>\n",
       "      <td>61</td>\n",
       "      <td>155000.00</td>\n",
       "    </tr>\n",
       "    <tr>\n",
       "      <th>295</th>\n",
       "      <td>1820</td>\n",
       "      <td>270000.00</td>\n",
       "    </tr>\n",
       "    <tr>\n",
       "      <th>296</th>\n",
       "      <td>2060</td>\n",
       "      <td>742000.00</td>\n",
       "    </tr>\n",
       "    <tr>\n",
       "      <th>297</th>\n",
       "      <td>2413</td>\n",
       "      <td>140000.00</td>\n",
       "    </tr>\n",
       "    <tr>\n",
       "      <th>298</th>\n",
       "      <td>196</td>\n",
       "      <td>395000.00</td>\n",
       "    </tr>\n",
       "  </tbody>\n",
       "</table>\n",
       "<p>299 rows × 2 columns</p>\n",
       "</div>"
      ],
      "text/plain": [
       "     creatinine_phosphokinase  platelets\n",
       "0                         582  265000.00\n",
       "1                        7861  263358.03\n",
       "2                         146  162000.00\n",
       "3                         111  210000.00\n",
       "4                         160  327000.00\n",
       "..                        ...        ...\n",
       "294                        61  155000.00\n",
       "295                      1820  270000.00\n",
       "296                      2060  742000.00\n",
       "297                      2413  140000.00\n",
       "298                       196  395000.00\n",
       "\n",
       "[299 rows x 2 columns]"
      ]
     },
     "execution_count": 4,
     "metadata": {},
     "output_type": "execute_result"
    }
   ],
   "source": [
    "a=df.drop(['age','anaemia','diabetes','ejection_fraction', 'high_blood_pressure', 'serum_creatinine', 'serum_sodium', 'sex', 'smoking', 'time', 'DEATH_EVENT'], axis = 'columns')\n",
    "a"
   ]
  },
  {
   "cell_type": "code",
   "execution_count": 5,
   "id": "cdbd9faf-2186-41fd-8272-24f6c861fd54",
   "metadata": {},
   "outputs": [
    {
     "data": {
      "text/html": [
       "<div>\n",
       "<style scoped>\n",
       "    .dataframe tbody tr th:only-of-type {\n",
       "        vertical-align: middle;\n",
       "    }\n",
       "\n",
       "    .dataframe tbody tr th {\n",
       "        vertical-align: top;\n",
       "    }\n",
       "\n",
       "    .dataframe thead th {\n",
       "        text-align: right;\n",
       "    }\n",
       "</style>\n",
       "<table border=\"1\" class=\"dataframe\">\n",
       "  <thead>\n",
       "    <tr style=\"text-align: right;\">\n",
       "      <th></th>\n",
       "      <th>0</th>\n",
       "      <th>1</th>\n",
       "    </tr>\n",
       "  </thead>\n",
       "  <tbody>\n",
       "    <tr>\n",
       "      <th>0</th>\n",
       "      <td>0.071319</td>\n",
       "      <td>0.290823</td>\n",
       "    </tr>\n",
       "    <tr>\n",
       "      <th>1</th>\n",
       "      <td>1.000000</td>\n",
       "      <td>0.288833</td>\n",
       "    </tr>\n",
       "    <tr>\n",
       "      <th>2</th>\n",
       "      <td>0.015693</td>\n",
       "      <td>0.165960</td>\n",
       "    </tr>\n",
       "    <tr>\n",
       "      <th>3</th>\n",
       "      <td>0.011227</td>\n",
       "      <td>0.224148</td>\n",
       "    </tr>\n",
       "    <tr>\n",
       "      <th>4</th>\n",
       "      <td>0.017479</td>\n",
       "      <td>0.365984</td>\n",
       "    </tr>\n",
       "    <tr>\n",
       "      <th>...</th>\n",
       "      <td>...</td>\n",
       "      <td>...</td>\n",
       "    </tr>\n",
       "    <tr>\n",
       "      <th>294</th>\n",
       "      <td>0.004848</td>\n",
       "      <td>0.157474</td>\n",
       "    </tr>\n",
       "    <tr>\n",
       "      <th>295</th>\n",
       "      <td>0.229268</td>\n",
       "      <td>0.296884</td>\n",
       "    </tr>\n",
       "    <tr>\n",
       "      <th>296</th>\n",
       "      <td>0.259888</td>\n",
       "      <td>0.869075</td>\n",
       "    </tr>\n",
       "    <tr>\n",
       "      <th>297</th>\n",
       "      <td>0.304925</td>\n",
       "      <td>0.139290</td>\n",
       "    </tr>\n",
       "    <tr>\n",
       "      <th>298</th>\n",
       "      <td>0.022072</td>\n",
       "      <td>0.448418</td>\n",
       "    </tr>\n",
       "  </tbody>\n",
       "</table>\n",
       "<p>299 rows × 2 columns</p>\n",
       "</div>"
      ],
      "text/plain": [
       "            0         1\n",
       "0    0.071319  0.290823\n",
       "1    1.000000  0.288833\n",
       "2    0.015693  0.165960\n",
       "3    0.011227  0.224148\n",
       "4    0.017479  0.365984\n",
       "..        ...       ...\n",
       "294  0.004848  0.157474\n",
       "295  0.229268  0.296884\n",
       "296  0.259888  0.869075\n",
       "297  0.304925  0.139290\n",
       "298  0.022072  0.448418\n",
       "\n",
       "[299 rows x 2 columns]"
      ]
     },
     "execution_count": 5,
     "metadata": {},
     "output_type": "execute_result"
    }
   ],
   "source": [
    "from sklearn.preprocessing import MinMaxScaler\n",
    "mms = MinMaxScaler()\n",
    "a = mms.fit_transform(a)\n",
    "a = pd.DataFrame(a)\n",
    "a"
   ]
  },
  {
   "cell_type": "code",
   "execution_count": 6,
   "id": "244b6579-23d6-40ba-ba49-ffb2a2a5567e",
   "metadata": {},
   "outputs": [
    {
     "data": {
      "text/html": [
       "<div>\n",
       "<style scoped>\n",
       "    .dataframe tbody tr th:only-of-type {\n",
       "        vertical-align: middle;\n",
       "    }\n",
       "\n",
       "    .dataframe tbody tr th {\n",
       "        vertical-align: top;\n",
       "    }\n",
       "\n",
       "    .dataframe thead th {\n",
       "        text-align: right;\n",
       "    }\n",
       "</style>\n",
       "<table border=\"1\" class=\"dataframe\">\n",
       "  <thead>\n",
       "    <tr style=\"text-align: right;\">\n",
       "      <th></th>\n",
       "      <th>creatinine_phosphokinase</th>\n",
       "      <th>platelets</th>\n",
       "    </tr>\n",
       "  </thead>\n",
       "  <tbody>\n",
       "    <tr>\n",
       "      <th>0</th>\n",
       "      <td>0.071319</td>\n",
       "      <td>0.290823</td>\n",
       "    </tr>\n",
       "    <tr>\n",
       "      <th>1</th>\n",
       "      <td>1.000000</td>\n",
       "      <td>0.288833</td>\n",
       "    </tr>\n",
       "    <tr>\n",
       "      <th>2</th>\n",
       "      <td>0.015693</td>\n",
       "      <td>0.165960</td>\n",
       "    </tr>\n",
       "    <tr>\n",
       "      <th>3</th>\n",
       "      <td>0.011227</td>\n",
       "      <td>0.224148</td>\n",
       "    </tr>\n",
       "    <tr>\n",
       "      <th>4</th>\n",
       "      <td>0.017479</td>\n",
       "      <td>0.365984</td>\n",
       "    </tr>\n",
       "    <tr>\n",
       "      <th>...</th>\n",
       "      <td>...</td>\n",
       "      <td>...</td>\n",
       "    </tr>\n",
       "    <tr>\n",
       "      <th>294</th>\n",
       "      <td>0.004848</td>\n",
       "      <td>0.157474</td>\n",
       "    </tr>\n",
       "    <tr>\n",
       "      <th>295</th>\n",
       "      <td>0.229268</td>\n",
       "      <td>0.296884</td>\n",
       "    </tr>\n",
       "    <tr>\n",
       "      <th>296</th>\n",
       "      <td>0.259888</td>\n",
       "      <td>0.869075</td>\n",
       "    </tr>\n",
       "    <tr>\n",
       "      <th>297</th>\n",
       "      <td>0.304925</td>\n",
       "      <td>0.139290</td>\n",
       "    </tr>\n",
       "    <tr>\n",
       "      <th>298</th>\n",
       "      <td>0.022072</td>\n",
       "      <td>0.448418</td>\n",
       "    </tr>\n",
       "  </tbody>\n",
       "</table>\n",
       "<p>299 rows × 2 columns</p>\n",
       "</div>"
      ],
      "text/plain": [
       "     creatinine_phosphokinase  platelets\n",
       "0                    0.071319   0.290823\n",
       "1                    1.000000   0.288833\n",
       "2                    0.015693   0.165960\n",
       "3                    0.011227   0.224148\n",
       "4                    0.017479   0.365984\n",
       "..                        ...        ...\n",
       "294                  0.004848   0.157474\n",
       "295                  0.229268   0.296884\n",
       "296                  0.259888   0.869075\n",
       "297                  0.304925   0.139290\n",
       "298                  0.022072   0.448418\n",
       "\n",
       "[299 rows x 2 columns]"
      ]
     },
     "execution_count": 6,
     "metadata": {},
     "output_type": "execute_result"
    }
   ],
   "source": [
    "df=df.drop(['creatinine_phosphokinase', 'platelets'], axis = 'columns')\n",
    "a.columns =['creatinine_phosphokinase', 'platelets']\n",
    "a"
   ]
  },
  {
   "cell_type": "code",
   "execution_count": 7,
   "id": "ba3d2bbb-72c7-47dd-9de2-62354035fe06",
   "metadata": {},
   "outputs": [
    {
     "data": {
      "text/html": [
       "<div>\n",
       "<style scoped>\n",
       "    .dataframe tbody tr th:only-of-type {\n",
       "        vertical-align: middle;\n",
       "    }\n",
       "\n",
       "    .dataframe tbody tr th {\n",
       "        vertical-align: top;\n",
       "    }\n",
       "\n",
       "    .dataframe thead th {\n",
       "        text-align: right;\n",
       "    }\n",
       "</style>\n",
       "<table border=\"1\" class=\"dataframe\">\n",
       "  <thead>\n",
       "    <tr style=\"text-align: right;\">\n",
       "      <th></th>\n",
       "      <th>age</th>\n",
       "      <th>anaemia</th>\n",
       "      <th>diabetes</th>\n",
       "      <th>ejection_fraction</th>\n",
       "      <th>high_blood_pressure</th>\n",
       "      <th>serum_creatinine</th>\n",
       "      <th>serum_sodium</th>\n",
       "      <th>sex</th>\n",
       "      <th>smoking</th>\n",
       "      <th>time</th>\n",
       "      <th>DEATH_EVENT</th>\n",
       "      <th>creatinine_phosphokinase</th>\n",
       "      <th>platelets</th>\n",
       "    </tr>\n",
       "  </thead>\n",
       "  <tbody>\n",
       "    <tr>\n",
       "      <th>0</th>\n",
       "      <td>75.0</td>\n",
       "      <td>0</td>\n",
       "      <td>0</td>\n",
       "      <td>20</td>\n",
       "      <td>1</td>\n",
       "      <td>1.9</td>\n",
       "      <td>130</td>\n",
       "      <td>1</td>\n",
       "      <td>0</td>\n",
       "      <td>4</td>\n",
       "      <td>1</td>\n",
       "      <td>0.071319</td>\n",
       "      <td>0.290823</td>\n",
       "    </tr>\n",
       "    <tr>\n",
       "      <th>1</th>\n",
       "      <td>55.0</td>\n",
       "      <td>0</td>\n",
       "      <td>0</td>\n",
       "      <td>38</td>\n",
       "      <td>0</td>\n",
       "      <td>1.1</td>\n",
       "      <td>136</td>\n",
       "      <td>1</td>\n",
       "      <td>0</td>\n",
       "      <td>6</td>\n",
       "      <td>1</td>\n",
       "      <td>1.000000</td>\n",
       "      <td>0.288833</td>\n",
       "    </tr>\n",
       "    <tr>\n",
       "      <th>2</th>\n",
       "      <td>65.0</td>\n",
       "      <td>0</td>\n",
       "      <td>0</td>\n",
       "      <td>20</td>\n",
       "      <td>0</td>\n",
       "      <td>1.3</td>\n",
       "      <td>129</td>\n",
       "      <td>1</td>\n",
       "      <td>1</td>\n",
       "      <td>7</td>\n",
       "      <td>1</td>\n",
       "      <td>0.015693</td>\n",
       "      <td>0.165960</td>\n",
       "    </tr>\n",
       "    <tr>\n",
       "      <th>3</th>\n",
       "      <td>50.0</td>\n",
       "      <td>1</td>\n",
       "      <td>0</td>\n",
       "      <td>20</td>\n",
       "      <td>0</td>\n",
       "      <td>1.9</td>\n",
       "      <td>137</td>\n",
       "      <td>1</td>\n",
       "      <td>0</td>\n",
       "      <td>7</td>\n",
       "      <td>1</td>\n",
       "      <td>0.011227</td>\n",
       "      <td>0.224148</td>\n",
       "    </tr>\n",
       "    <tr>\n",
       "      <th>4</th>\n",
       "      <td>65.0</td>\n",
       "      <td>1</td>\n",
       "      <td>1</td>\n",
       "      <td>20</td>\n",
       "      <td>0</td>\n",
       "      <td>2.7</td>\n",
       "      <td>116</td>\n",
       "      <td>0</td>\n",
       "      <td>0</td>\n",
       "      <td>8</td>\n",
       "      <td>1</td>\n",
       "      <td>0.017479</td>\n",
       "      <td>0.365984</td>\n",
       "    </tr>\n",
       "    <tr>\n",
       "      <th>...</th>\n",
       "      <td>...</td>\n",
       "      <td>...</td>\n",
       "      <td>...</td>\n",
       "      <td>...</td>\n",
       "      <td>...</td>\n",
       "      <td>...</td>\n",
       "      <td>...</td>\n",
       "      <td>...</td>\n",
       "      <td>...</td>\n",
       "      <td>...</td>\n",
       "      <td>...</td>\n",
       "      <td>...</td>\n",
       "      <td>...</td>\n",
       "    </tr>\n",
       "    <tr>\n",
       "      <th>294</th>\n",
       "      <td>62.0</td>\n",
       "      <td>0</td>\n",
       "      <td>1</td>\n",
       "      <td>38</td>\n",
       "      <td>1</td>\n",
       "      <td>1.1</td>\n",
       "      <td>143</td>\n",
       "      <td>1</td>\n",
       "      <td>1</td>\n",
       "      <td>270</td>\n",
       "      <td>0</td>\n",
       "      <td>0.004848</td>\n",
       "      <td>0.157474</td>\n",
       "    </tr>\n",
       "    <tr>\n",
       "      <th>295</th>\n",
       "      <td>55.0</td>\n",
       "      <td>0</td>\n",
       "      <td>0</td>\n",
       "      <td>38</td>\n",
       "      <td>0</td>\n",
       "      <td>1.2</td>\n",
       "      <td>139</td>\n",
       "      <td>0</td>\n",
       "      <td>0</td>\n",
       "      <td>271</td>\n",
       "      <td>0</td>\n",
       "      <td>0.229268</td>\n",
       "      <td>0.296884</td>\n",
       "    </tr>\n",
       "    <tr>\n",
       "      <th>296</th>\n",
       "      <td>45.0</td>\n",
       "      <td>0</td>\n",
       "      <td>1</td>\n",
       "      <td>60</td>\n",
       "      <td>0</td>\n",
       "      <td>0.8</td>\n",
       "      <td>138</td>\n",
       "      <td>0</td>\n",
       "      <td>0</td>\n",
       "      <td>278</td>\n",
       "      <td>0</td>\n",
       "      <td>0.259888</td>\n",
       "      <td>0.869075</td>\n",
       "    </tr>\n",
       "    <tr>\n",
       "      <th>297</th>\n",
       "      <td>45.0</td>\n",
       "      <td>0</td>\n",
       "      <td>0</td>\n",
       "      <td>38</td>\n",
       "      <td>0</td>\n",
       "      <td>1.4</td>\n",
       "      <td>140</td>\n",
       "      <td>1</td>\n",
       "      <td>1</td>\n",
       "      <td>280</td>\n",
       "      <td>0</td>\n",
       "      <td>0.304925</td>\n",
       "      <td>0.139290</td>\n",
       "    </tr>\n",
       "    <tr>\n",
       "      <th>298</th>\n",
       "      <td>50.0</td>\n",
       "      <td>0</td>\n",
       "      <td>0</td>\n",
       "      <td>45</td>\n",
       "      <td>0</td>\n",
       "      <td>1.6</td>\n",
       "      <td>136</td>\n",
       "      <td>1</td>\n",
       "      <td>1</td>\n",
       "      <td>285</td>\n",
       "      <td>0</td>\n",
       "      <td>0.022072</td>\n",
       "      <td>0.448418</td>\n",
       "    </tr>\n",
       "  </tbody>\n",
       "</table>\n",
       "<p>299 rows × 13 columns</p>\n",
       "</div>"
      ],
      "text/plain": [
       "      age  anaemia  diabetes  ejection_fraction  high_blood_pressure  \\\n",
       "0    75.0        0         0                 20                    1   \n",
       "1    55.0        0         0                 38                    0   \n",
       "2    65.0        0         0                 20                    0   \n",
       "3    50.0        1         0                 20                    0   \n",
       "4    65.0        1         1                 20                    0   \n",
       "..    ...      ...       ...                ...                  ...   \n",
       "294  62.0        0         1                 38                    1   \n",
       "295  55.0        0         0                 38                    0   \n",
       "296  45.0        0         1                 60                    0   \n",
       "297  45.0        0         0                 38                    0   \n",
       "298  50.0        0         0                 45                    0   \n",
       "\n",
       "     serum_creatinine  serum_sodium  sex  smoking  time  DEATH_EVENT  \\\n",
       "0                 1.9           130    1        0     4            1   \n",
       "1                 1.1           136    1        0     6            1   \n",
       "2                 1.3           129    1        1     7            1   \n",
       "3                 1.9           137    1        0     7            1   \n",
       "4                 2.7           116    0        0     8            1   \n",
       "..                ...           ...  ...      ...   ...          ...   \n",
       "294               1.1           143    1        1   270            0   \n",
       "295               1.2           139    0        0   271            0   \n",
       "296               0.8           138    0        0   278            0   \n",
       "297               1.4           140    1        1   280            0   \n",
       "298               1.6           136    1        1   285            0   \n",
       "\n",
       "     creatinine_phosphokinase  platelets  \n",
       "0                    0.071319   0.290823  \n",
       "1                    1.000000   0.288833  \n",
       "2                    0.015693   0.165960  \n",
       "3                    0.011227   0.224148  \n",
       "4                    0.017479   0.365984  \n",
       "..                        ...        ...  \n",
       "294                  0.004848   0.157474  \n",
       "295                  0.229268   0.296884  \n",
       "296                  0.259888   0.869075  \n",
       "297                  0.304925   0.139290  \n",
       "298                  0.022072   0.448418  \n",
       "\n",
       "[299 rows x 13 columns]"
      ]
     },
     "execution_count": 7,
     "metadata": {},
     "output_type": "execute_result"
    }
   ],
   "source": [
    "df1 = pd.concat([df, a], axis=1)\n",
    "df1"
   ]
  },
  {
   "cell_type": "code",
   "execution_count": 3,
   "id": "b25f3875-e499-449a-8a66-e901af16dd01",
   "metadata": {},
   "outputs": [],
   "source": [
    "x=df.drop(['DEATH_EVENT'], axis = 'columns')\n",
    "y=df['DEATH_EVENT']"
   ]
  },
  {
   "cell_type": "code",
   "execution_count": 4,
   "id": "2ed63e44-795c-4b80-bc23-2f9e3354f2d0",
   "metadata": {},
   "outputs": [],
   "source": [
    "#!pip install -U imbalanced-learn\n",
    "from imblearn.combine import SMOTETomek\n",
    "sm = SMOTETomek()\n",
    "x_sm, y_sm = sm.fit_resample(x, y)"
   ]
  },
  {
   "cell_type": "code",
   "execution_count": 5,
   "id": "acdec829-a16e-437f-95d0-f38570337c3f",
   "metadata": {},
   "outputs": [
    {
     "name": "stdout",
     "output_type": "stream",
     "text": [
      "[(0, 158), (1, 158)]\n"
     ]
    }
   ],
   "source": [
    "from collections import Counter\n",
    "print(sorted(Counter(y_sm).items()))"
   ]
  },
  {
   "cell_type": "code",
   "execution_count": 6,
   "id": "9fdb1bc7-50b5-4ef2-8971-c93144a1db3e",
   "metadata": {},
   "outputs": [],
   "source": [
    "from sklearn.model_selection import train_test_split\n",
    "xtrain, xtest, ytrain, ytest = train_test_split(x_sm, y_sm, test_size=0.30, stratify=y_sm, random_state=42)"
   ]
  },
  {
   "cell_type": "code",
   "execution_count": 57,
   "id": "2e83a940-7d9a-41c0-8ad3-ed51f3737120",
   "metadata": {},
   "outputs": [
    {
     "data": {
      "text/plain": [
       "274    0\n",
       "207    1\n",
       "378    1\n",
       "324    1\n",
       "374    1\n",
       "      ..\n",
       "279    0\n",
       "266    0\n",
       "114    0\n",
       "74     0\n",
       "66     0\n",
       "Name: DEATH_EVENT, Length: 117, dtype: int64"
      ]
     },
     "execution_count": 57,
     "metadata": {},
     "output_type": "execute_result"
    }
   ],
   "source": [
    "ytest"
   ]
  },
  {
   "cell_type": "code",
   "execution_count": 7,
   "id": "fd8f3cbd-729d-455e-9c0e-5593fbdaa740",
   "metadata": {},
   "outputs": [],
   "source": [
    "from sklearn.tree import DecisionTreeClassifier\n",
    "from sklearn.ensemble import AdaBoostClassifier\n",
    "from sklearn.ensemble import GradientBoostingClassifier\n",
    "from sklearn.neighbors import KNeighborsClassifier\n",
    "from sklearn import svm\n",
    "from sklearn.metrics import accuracy_score, precision_score, recall_score, f1_score, confusion_matrix, roc_auc_score, jaccard_score, cohen_kappa_score, hamming_loss\n",
    "import matplotlib.pyplot as plt\n",
    "import seaborn as sns"
   ]
  },
  {
   "cell_type": "code",
   "execution_count": 53,
   "id": "2cb605e7-a187-43c9-84d7-b2cf4d61d5be",
   "metadata": {},
   "outputs": [
    {
     "name": "stdout",
     "output_type": "stream",
     "text": [
      "Accuracy: 0.8376068376068376\n",
      "Precision: 0.8095238095238095\n",
      "Recall: 0.8793103448275862\n",
      "F1 Score: 0.8429752066115702\n",
      "Jaccard Score: 0.7285714285714285\n",
      "Cohen's Kappa Score: 0.6754270696452037\n",
      "Hamming Loss: 0.1623931623931624\n"
     ]
    }
   ],
   "source": [
    "from sklearn.metrics import accuracy_score, precision_score, recall_score, f1_score, confusion_matrix, roc_auc_score, jaccard_score, cohen_kappa_score, hamming_loss\n",
    "import matplotlib.pyplot as plt\n",
    "import seaborn as sns\n",
    "\n",
    "dt=DecisionTreeClassifier(criterion='entropy',max_depth=2,random_state=5)\n",
    "dt.fit(xtrain,ytrain)\n",
    "y_pred = dt.predict(xtest)\n",
    "accuracy = accuracy_score(ytest, y_pred)\n",
    "precision = precision_score(ytest, y_pred)\n",
    "recall = recall_score(ytest, y_pred)\n",
    "f1 = f1_score(ytest, y_pred)\n",
    "\n",
    "print(\"Accuracy:\", accuracy)\n",
    "print(\"Precision:\", precision)\n",
    "print(\"Recall:\", recall)\n",
    "print(\"F1 Score:\", f1)\n",
    "# Calculate Jaccard Score\n",
    "jaccard = jaccard_score(ytest, y_pred)\n",
    "print(\"Jaccard Score:\", jaccard)\n",
    "\n",
    "# Calculate Cohen's Kappa Score\n",
    "kappa = cohen_kappa_score(ytest, y_pred)\n",
    "print(\"Cohen's Kappa Score:\", kappa)\n",
    "\n",
    "# Calculate Hamming Loss\n",
    "hamming = hamming_loss(ytest, y_pred)\n",
    "print(\"Hamming Loss:\", hamming)"
   ]
  },
  {
   "cell_type": "code",
   "execution_count": 54,
   "id": "31fb6903-8469-4a35-81a4-9539aba5476d",
   "metadata": {},
   "outputs": [
    {
     "data": {
      "image/png": "[encoded data removed]",
      "text/plain": [
       "<Figure size 350x300 with 2 Axes>"
      ]
     },
     "metadata": {},
     "output_type": "display_data"
    },
    {
     "data": {
      "image/png": "[encoded data removed]",
      "text/plain": [
       "<Figure size 350x300 with 1 Axes>"
      ]
     },
     "metadata": {},
     "output_type": "display_data"
    }
   ],
   "source": [
    "cm = confusion_matrix(ytest, y_pred)\n",
    "f, ax = plt.subplots(figsize=(3.5,3))\n",
    "sns.heatmap(cm,cmap=\"Set2\", annot = True, linewidths=1,linecolor=\"black\",fmt=\".0f\",ax=ax, square=True)\n",
    "plt.savefig('dtconfusion_matrix.pdf')  # Save confusion matrix plot as PDF\n",
    "plt.show()\n",
    "\n",
    "# Compute AUC-ROC Curve\n",
    "from sklearn.metrics import roc_curve, roc_auc_score\n",
    "fpr, tpr, thresholds = roc_curve(ytest, dt.predict_proba(xtest)[:, 1])\n",
    "auc_roc = roc_auc_score(ytest, dt.predict_proba(xtest)[:, 1])  # Compute AUC-ROC score\n",
    "plt.figure(figsize=(3.5, 3))\n",
    "plt.plot(fpr, tpr, label='DT = {:.3f}'.format(auc_roc))\n",
    "plt.plot([0, 1], [0, 1], linestyle='--', color='black')\n",
    "plt.legend(loc='lower right')\n",
    "plt.savefig('dtauc_roc_curve.pdf')  # Save AUC-ROC curve plot as PDF\n",
    "plt.show()"
   ]
  },
  {
   "cell_type": "code",
   "execution_count": 59,
   "id": "5cab0ddc-f9e7-4513-bdeb-2cf890acabf0",
   "metadata": {},
   "outputs": [
    {
     "name": "stdout",
     "output_type": "stream",
     "text": [
      "0.8376068376068376\n",
      "Accuracy: 0.9145299145299145\n",
      "Precision: 0.9285714285714286\n",
      "Recall: 0.896551724137931\n",
      "F1 Score: 0.912280701754386\n",
      "Jaccard Score: 0.8387096774193549\n",
      "Cohen's Kappa Score: 0.8289973691902952\n",
      "Hamming Loss: 0.08547008547008547\n"
     ]
    }
   ],
   "source": [
    "from sklearn.ensemble import ExtraTreesClassifier\n",
    "t = ExtraTreesClassifier(n_estimators = 10)\n",
    "t.fit(xtrain,ytrain)\n",
    "print(dt.score(xtest,ytest))\n",
    "\n",
    "y_pred = t.predict(xtest)\n",
    "accuracy = accuracy_score(ytest, y_pred)\n",
    "precision = precision_score(ytest, y_pred)\n",
    "recall = recall_score(ytest, y_pred)\n",
    "f1 = f1_score(ytest, y_pred)\n",
    "\n",
    "print(\"Accuracy:\", accuracy)\n",
    "print(\"Precision:\", precision)\n",
    "print(\"Recall:\", recall)\n",
    "print(\"F1 Score:\", f1)\n",
    "# Calculate Jaccard Score\n",
    "jaccard = jaccard_score(ytest, y_pred)\n",
    "print(\"Jaccard Score:\", jaccard)\n",
    "\n",
    "# Calculate Cohen's Kappa Score\n",
    "kappa = cohen_kappa_score(ytest, y_pred)\n",
    "print(\"Cohen's Kappa Score:\", kappa)\n",
    "\n",
    "# Calculate Hamming Loss\n",
    "hamming = hamming_loss(ytest, y_pred)\n",
    "print(\"Hamming Loss:\", hamming)"
   ]
  },
  {
   "cell_type": "code",
   "execution_count": 64,
   "id": "aab02277-6317-4881-8921-66a3425b4610",
   "metadata": {},
   "outputs": [
    {
     "data": {
      "image/png": "[encoded data removed]",
      "text/plain": [
       "<Figure size 350x300 with 1 Axes>"
      ]
     },
     "metadata": {},
     "output_type": "display_data"
    }
   ],
   "source": [
    "# Compute AUC-ROC Curve\n",
    "from sklearn.metrics import roc_curve, roc_auc_score\n",
    "fpr, tpr, thresholds = roc_curve(ytest, t.predict_proba(xtest)[:, 1])\n",
    "auc_roc = roc_auc_score(ytest, t.predict_proba(xtest)[:, 1])  # Compute AUC-ROC score\n",
    "plt.figure(figsize=(3.5, 3))\n",
    "plt.plot(fpr, tpr, label='ET = {:.3f}'.format(auc_roc))\n",
    "plt.plot([0, 1], [0, 1], linestyle='--', color='black')\n",
    "plt.legend(loc='lower right')\n",
    "plt.savefig('ET.pdf')  # Save AUC-ROC curve plot as PDF\n",
    "plt.show()"
   ]
  },
  {
   "cell_type": "code",
   "execution_count": 92,
   "id": "57510895-6c63-424e-9fa7-e0175c302e25",
   "metadata": {},
   "outputs": [
    {
     "name": "stdout",
     "output_type": "stream",
     "text": [
      "0.9316239316239316\n",
      "Accuracy: 0.9316239316239316\n",
      "Precision: 0.9464285714285714\n",
      "Recall: 0.9137931034482759\n",
      "F1 Score: 0.9298245614035087\n",
      "Jaccard Score: 0.8688524590163934\n",
      "Cohen's Kappa Score: 0.8631978953522361\n",
      "Hamming Loss: 0.06837606837606838\n"
     ]
    }
   ],
   "source": [
    "y_pred = sehm.predict(xtest)\n",
    "accuracy = accuracy_score(ytest, y_pred)\n",
    "precision = precision_score(ytest, y_pred)\n",
    "recall = recall_score(ytest, y_pred)\n",
    "f1 = f1_score(ytest, y_pred)\n",
    "\n",
    "print(\"Accuracy:\", accuracy)\n",
    "print(\"Precision:\", precision)\n",
    "print(\"Recall:\", recall)\n",
    "print(\"F1 Score:\", f1)\n",
    "# Calculate Jaccard Score\n",
    "jaccard = jaccard_score(ytest, y_pred)\n",
    "print(\"Jaccard Score:\", jaccard)\n",
    "\n",
    "# Calculate Cohen's Kappa Score\n",
    "kappa = cohen_kappa_score(ytest, y_pred)\n",
    "print(\"Cohen's Kappa Score:\", kappa)\n",
    "\n",
    "# Calculate Hamming Loss\n",
    "hamming = hamming_loss(ytest, y_pred)\n",
    "print(\"Hamming Loss:\", hamming)"
   ]
  },
  {
   "cell_type": "code",
   "execution_count": 85,
   "id": "eba61f0b-529b-4b4e-ac5c-6ff43544519a",
   "metadata": {},
   "outputs": [
    {
     "data": {
      "image/png": "[encoded data removed]",
      "text/plain": [
       "<Figure size 350x300 with 1 Axes>"
      ]
     },
     "metadata": {},
     "output_type": "display_data"
    }
   ],
   "source": [
    "# Compute AUC-ROC Curve\n",
    "from sklearn.metrics import roc_curve, roc_auc_score\n",
    "fpr, tpr, thresholds = roc_curve(ytest, sehm.predict_proba(xtest)[:, 1])\n",
    "auc_roc = roc_auc_score(ytest, sehm.predict_proba(xtest)[:, 1])  # Compute AUC-ROC score\n",
    "plt.figure(figsize=(3.5, 3))\n",
    "plt.plot(fpr, tpr, label='SEHM = {:.3f}'.format(auc_roc))\n",
    "plt.plot([0, 1], [0, 1], linestyle='--', color='black')\n",
    "plt.legend(loc='lower right')\n",
    "plt.savefig('gb.pdf')  # Save AUC-ROC curve plot as PDF\n",
    "plt.show()"
   ]
  },
  {
   "cell_type": "code",
   "execution_count": 73,
   "id": "ddf2dd4d-31ef-48e9-ba7f-b437383a9afd",
   "metadata": {},
   "outputs": [
    {
     "name": "stdout",
     "output_type": "stream",
     "text": [
      "Accuracy: 0.8205128205128205\n",
      "Precision: 0.8032786885245902\n",
      "Recall: 0.8448275862068966\n",
      "F1 Score: 0.823529411764706\n",
      "Jaccard Score: 0.7\n",
      "Cohen's Kappa Score: 0.6411567109683073\n",
      "Hamming Loss: 0.1794871794871795\n"
     ]
    }
   ],
   "source": [
    "from sklearn.svm import SVC\n",
    "svm = SVC(kernel='linear', random_state=42, probability=True)  # Linear kernel\n",
    "svm.fit(xtrain,ytrain)\n",
    "\n",
    "y_pred = svm.predict(xtest)\n",
    "accuracy = accuracy_score(ytest, y_pred)\n",
    "precision = precision_score(ytest, y_pred)\n",
    "recall = recall_score(ytest, y_pred)\n",
    "f1 = f1_score(ytest, y_pred)\n",
    "\n",
    "print(\"Accuracy:\", accuracy)\n",
    "print(\"Precision:\", precision)\n",
    "print(\"Recall:\", recall)\n",
    "print(\"F1 Score:\", f1)\n",
    "# Calculate Jaccard Score\n",
    "jaccard = jaccard_score(ytest, y_pred)\n",
    "print(\"Jaccard Score:\", jaccard)\n",
    "\n",
    "# Calculate Cohen's Kappa Score\n",
    "kappa = cohen_kappa_score(ytest, y_pred)\n",
    "print(\"Cohen's Kappa Score:\", kappa)\n",
    "\n",
    "# Calculate Hamming Loss\n",
    "hamming = hamming_loss(ytest, y_pred)\n",
    "print(\"Hamming Loss:\", hamming)"
   ]
  },
  {
   "cell_type": "code",
   "execution_count": 74,
   "id": "46a1e514-2755-4446-a552-7c2f44865344",
   "metadata": {},
   "outputs": [
    {
     "data": {
      "image/png": "[encoded data removed]",
      "text/plain": [
       "<Figure size 350x300 with 1 Axes>"
      ]
     },
     "metadata": {},
     "output_type": "display_data"
    }
   ],
   "source": [
    "# Compute AUC-ROC Curve\n",
    "from sklearn.metrics import roc_curve, roc_auc_score\n",
    "fpr, tpr, thresholds = roc_curve(ytest, svm.predict_proba(xtest)[:, 1])\n",
    "auc_roc = roc_auc_score(ytest, svm.predict_proba(xtest)[:, 1])  # Compute AUC-ROC score\n",
    "plt.figure(figsize=(3.5, 3))\n",
    "plt.plot(fpr, tpr, label='SVM = {:.3f}'.format(auc_roc))\n",
    "plt.plot([0, 1], [0, 1], linestyle='--', color='black')\n",
    "plt.legend(loc='lower right')\n",
    "plt.savefig('svm.pdf')  # Save AUC-ROC curve plot as PDF\n",
    "plt.show()"
   ]
  },
  {
   "cell_type": "code",
   "execution_count": 75,
   "id": "f86bbc30-7ee7-4ae6-bdc4-b7e62f7c730f",
   "metadata": {},
   "outputs": [
    {
     "name": "stdout",
     "output_type": "stream",
     "text": [
      "Accuracy: 0.8547008547008547\n",
      "Precision: 0.8867924528301887\n",
      "Recall: 0.8103448275862069\n",
      "F1 Score: 0.8468468468468469\n",
      "Jaccard Score: 0.734375\n",
      "Cohen's Kappa Score: 0.70916800701857\n",
      "Hamming Loss: 0.1452991452991453\n"
     ]
    }
   ],
   "source": [
    "from sklearn.neighbors import KNeighborsClassifier\n",
    "knn = KNeighborsClassifier(n_neighbors=5)  # Specify the number of neighbors (K)\n",
    "\n",
    "knn.fit(xtrain, ytrain)\n",
    "\n",
    "y_pred = knn.predict(xtest)\n",
    "accuracy = accuracy_score(ytest, y_pred)\n",
    "precision = precision_score(ytest, y_pred)\n",
    "recall = recall_score(ytest, y_pred)\n",
    "f1 = f1_score(ytest, y_pred)\n",
    "\n",
    "print(\"Accuracy:\", accuracy)\n",
    "print(\"Precision:\", precision)\n",
    "print(\"Recall:\", recall)\n",
    "print(\"F1 Score:\", f1)\n",
    "# Calculate Jaccard Score\n",
    "jaccard = jaccard_score(ytest, y_pred)\n",
    "print(\"Jaccard Score:\", jaccard)\n",
    "\n",
    "# Calculate Cohen's Kappa Score\n",
    "kappa = cohen_kappa_score(ytest, y_pred)\n",
    "print(\"Cohen's Kappa Score:\", kappa)\n",
    "\n",
    "# Calculate Hamming Loss\n",
    "hamming = hamming_loss(ytest, y_pred)\n",
    "print(\"Hamming Loss:\", hamming)"
   ]
  },
  {
   "cell_type": "code",
   "execution_count": 76,
   "id": "a3419aa4-468a-4170-b2a7-5b8e0efea79c",
   "metadata": {},
   "outputs": [
    {
     "data": {
      "image/png": "[encoded data removed]",
      "text/plain": [
       "<Figure size 350x300 with 1 Axes>"
      ]
     },
     "metadata": {},
     "output_type": "display_data"
    }
   ],
   "source": [
    "# Compute AUC-ROC Curve\n",
    "from sklearn.metrics import roc_curve, roc_auc_score\n",
    "fpr, tpr, thresholds = roc_curve(ytest, knn.predict_proba(xtest)[:, 1])\n",
    "auc_roc = roc_auc_score(ytest, knn.predict_proba(xtest)[:, 1])  # Compute AUC-ROC score\n",
    "plt.figure(figsize=(3.5, 3))\n",
    "plt.plot(fpr, tpr, label='KNN = {:.3f}'.format(auc_roc))\n",
    "plt.plot([0, 1], [0, 1], linestyle='--', color='black')\n",
    "plt.legend(loc='lower right')\n",
    "plt.savefig('knn.pdf')  # Save AUC-ROC curve plot as PDF\n",
    "plt.show()"
   ]
  },
  {
   "cell_type": "code",
   "execution_count": 81,
   "id": "4ebc8ddc-b8bf-4285-bd2f-a8894f3d374f",
   "metadata": {},
   "outputs": [
    {
     "name": "stdout",
     "output_type": "stream",
     "text": [
      "0.8717948717948718\n",
      "Accuracy: 0.8717948717948718\n",
      "Precision: 0.8307692307692308\n",
      "Recall: 0.9310344827586207\n",
      "F1 Score: 0.8780487804878049\n",
      "Jaccard Score: 0.782608695652174\n",
      "Cohen's Kappa Score: 0.7438330170777989\n",
      "Hamming Loss: 0.1282051282051282\n"
     ]
    }
   ],
   "source": [
    "rf = RandomForestClassifier(max_depth=3)\n",
    "rf.fit(xtrain,ytrain)\n",
    "print(rf.score(xtest,ytest))\n",
    "\n",
    "y_pred = rf.predict(xtest)\n",
    "accuracy = accuracy_score(ytest, y_pred)\n",
    "precision = precision_score(ytest, y_pred)\n",
    "recall = recall_score(ytest, y_pred)\n",
    "f1 = f1_score(ytest, y_pred)\n",
    "\n",
    "print(\"Accuracy:\", accuracy)\n",
    "print(\"Precision:\", precision)\n",
    "print(\"Recall:\", recall)\n",
    "print(\"F1 Score:\", f1)\n",
    "# Calculate Jaccard Score\n",
    "jaccard = jaccard_score(ytest, y_pred)\n",
    "print(\"Jaccard Score:\", jaccard)\n",
    "\n",
    "# Calculate Cohen's Kappa Score\n",
    "kappa = cohen_kappa_score(ytest, y_pred)\n",
    "print(\"Cohen's Kappa Score:\", kappa)\n",
    "\n",
    "# Calculate Hamming Loss\n",
    "hamming = hamming_loss(ytest, y_pred)\n",
    "print(\"Hamming Loss:\", hamming)"
   ]
  },
  {
   "cell_type": "code",
   "execution_count": 82,
   "id": "bae05090-b5c9-447c-98cf-6391a3935d3f",
   "metadata": {},
   "outputs": [
    {
     "data": {
      "image/png": "[encoded data removed]",
      "text/plain": [
       "<Figure size 350x300 with 1 Axes>"
      ]
     },
     "metadata": {},
     "output_type": "display_data"
    }
   ],
   "source": [
    "# Compute AUC-ROC Curve\n",
    "from sklearn.metrics import roc_curve, roc_auc_score\n",
    "fpr, tpr, thresholds = roc_curve(ytest, rf.predict_proba(xtest)[:, 1])\n",
    "auc_roc = roc_auc_score(ytest, rf.predict_proba(xtest)[:, 1])  # Compute AUC-ROC score\n",
    "plt.figure(figsize=(3.5, 3))\n",
    "plt.plot(fpr, tpr, label='RF= {:.3f}'.format(auc_roc))\n",
    "plt.plot([0, 1], [0, 1], linestyle='--', color='black')\n",
    "plt.legend(loc='lower right')\n",
    "plt.savefig('rf.pdf')  # Save AUC-ROC curve plot as PDF\n",
    "plt.show()"
   ]
  },
  {
   "cell_type": "code",
   "execution_count": 52,
   "id": "3e61fd77-57d9-4725-92ac-2f8ea8af3598",
   "metadata": {},
   "outputs": [],
   "source": [
    "# Applying NSGA-II on all features\n",
    "problem_all = FeatureSelectionProblem(xtrain, ytrain, xtest, ytest, n_features=xtrain.shape[1])\n",
    "algorithm = NSGA2(pop_size=100, n_offsprings=10, eliminate_duplicates=True)\n",
    "res_all = minimize(problem_all, algorithm, ('n_gen', 100), verbose=False)\n",
    "pareto_front_all = res_all.F"
   ]
  },
  {
   "cell_type": "code",
   "execution_count": 53,
   "id": "63002a07-9a2a-44e3-8c70-1e6c3ff34d37",
   "metadata": {},
   "outputs": [
    {
     "data": {
      "image/png": "[encoded data removed]",
      "text/plain": [
       "<Figure size 400x250 with 1 Axes>"
      ]
     },
     "metadata": {},
     "output_type": "display_data"
    }
   ],
   "source": [
    "# Plotting the Pareto fronts\n",
    "plt.figure(figsize=(4, 2.5))\n",
    "plt.scatter(pareto_front_all[:, 0], -pareto_front_all[:, 1], label='MO-SEHM', color='black')\n",
    "plt.legend(loc='lower right')\n",
    "plt.ylabel(\"Classification Accuracy\")\n",
    "plt.grid(True)\n",
    "plt.savefig(\"MO-SEHM1.pdf\")\n",
    "plt.show()"
   ]
  },
  {
   "cell_type": "code",
   "execution_count": 113,
   "id": "5180ee95-1183-4d3f-bc07-73768241f102",
   "metadata": {},
   "outputs": [
    {
     "name": "stdout",
     "output_type": "stream",
     "text": [
      "Accuracies and numbers with All Features:\n",
      "[0.8034188  0.8034188  0.94871795 0.94871795 0.88034188 0.86324786\n",
      " 0.91452991 0.94017094 0.86324786 0.92307692 0.91452991 0.93162393\n",
      " 0.92307692 0.93162393 0.94017094 0.8034188  0.8034188  0.8034188\n",
      " 0.86324786 0.86324786 0.86324786 0.86324786 0.86324786 0.86324786\n",
      " 0.86324786 0.86324786 0.86324786 0.92307692 0.86324786 0.86324786\n",
      " 0.8034188  0.86324786 0.86324786 0.86324786 0.86324786 0.86324786\n",
      " 0.86324786 0.86324786 0.8034188  0.86324786 0.86324786 0.86324786\n",
      " 0.86324786 0.93162393 0.86324786 0.86324786 0.86324786 0.86324786\n",
      " 0.86324786 0.86324786 0.86324786 0.86324786 0.86324786 0.93162393\n",
      " 0.8034188  0.86324786 0.8034188  0.86324786 0.86324786 0.86324786\n",
      " 0.86324786 0.8034188  0.86324786 0.86324786 0.86324786 0.8034188\n",
      " 0.93162393 0.86324786 0.92307692 0.86324786 0.8034188  0.8034188\n",
      " 0.8034188  0.86324786 0.86324786 0.86324786 0.86324786 0.8034188\n",
      " 0.86324786 0.86324786 0.8034188  0.8034188  0.93162393 0.86324786\n",
      " 0.86324786 0.86324786 0.86324786 0.86324786 0.86324786 0.86324786\n",
      " 0.86324786 0.86324786 0.86324786 0.86324786 0.92307692 0.86324786\n",
      " 0.86324786 0.86324786 0.8034188  0.92307692]\n",
      "[1. 1. 9. 9. 3. 2. 4. 7. 2. 5. 4. 6. 5. 6. 7. 1. 1. 1. 2. 2. 2. 2. 2. 2.\n",
      " 2. 2. 2. 5. 2. 2. 1. 2. 2. 2. 2. 2. 2. 2. 1. 2. 2. 2. 2. 6. 2. 2. 2. 2.\n",
      " 2. 2. 2. 2. 2. 6. 1. 2. 1. 2. 2. 2. 2. 1. 2. 2. 2. 1. 6. 2. 5. 2. 1. 1.\n",
      " 1. 2. 2. 2. 2. 1. 2. 2. 1. 1. 6. 2. 2. 2. 2. 2. 2. 2. 2. 2. 2. 2. 5. 2.\n",
      " 2. 2. 1. 5.]\n"
     ]
    }
   ],
   "source": [
    "# Accuracies with All Features\n",
    "accuracies_all_features = -pareto_front_all[:, 1]\n",
    "numbers_all_features = pareto_front_all[:, 0]\n",
    "print(\"Accuracies and numbers with All Features:\")\n",
    "print(accuracies_all_features)\n",
    "print(numbers_all_features)"
   ]
  },
  {
   "cell_type": "code",
   "execution_count": 114,
   "id": "ddd36b86-dcc3-42a5-805b-98ae1cc22297",
   "metadata": {},
   "outputs": [
    {
     "name": "stdout",
     "output_type": "stream",
     "text": [
      "\n",
      "Optimal Solution with All Features:\n",
      "Accuracy: 0.9487179487179487\n",
      "Number of Features: 9.0\n"
     ]
    }
   ],
   "source": [
    "optimal_solution_index_all = np.argmin(pareto_front_all[:, 1])\n",
    "\n",
    "optimal_solution_all = pareto_front_all[optimal_solution_index_all, :]\n",
    "\n",
    "# Print the optimal solutions\n",
    "print(\"\\nOptimal Solution with All Features:\")\n",
    "print(\"Accuracy:\", -optimal_solution_all[1])\n",
    "print(\"Number of Features:\", optimal_solution_all[0])"
   ]
  },
  {
   "cell_type": "code",
   "execution_count": 115,
   "id": "be563e03-940a-448b-bbfd-00b004f7eb6e",
   "metadata": {},
   "outputs": [
    {
     "name": "stdout",
     "output_type": "stream",
     "text": [
      "Selected features:\n",
      "Index(['diabetes', 'ejection_fraction', 'high_blood_pressure',\n",
      "       'serum_creatinine', 'serum_sodium', 'sex', 'time',\n",
      "       'creatinine_phosphokinase', 'platelets'],\n",
      "      dtype='object')\n"
     ]
    }
   ],
   "source": [
    "# Selected features with high accuracy\n",
    "selected_indices = np.argmax(accuracies_all_features)\n",
    "selected_features = np.where(res_all.X[selected_indices] >= 0.5)[0]\n",
    "selected_features_names = xtrain.columns[selected_features]  # Assuming xtrain is a DataFrame\n",
    "print(\"Selected features:\")\n",
    "print(selected_features_names)"
   ]
  },
  {
   "cell_type": "code",
   "execution_count": 118,
   "id": "146e167c-56e7-4733-a8f8-7d4698bb11a7",
   "metadata": {},
   "outputs": [
    {
     "name": "stdout",
     "output_type": "stream",
     "text": [
      "Accuracy: 0.9487179487179487\n",
      "Precision: 0.9482758620689655\n",
      "Recall: 0.9482758620689655\n",
      "F1 Score: 0.9482758620689655\n",
      "Jaccard Score: 0.9016393442622951\n",
      "Cohen's Kappa Score: 0.8974284044418469\n",
      "Hamming Loss: 0.05128205128205128\n"
     ]
    }
   ],
   "source": [
    "accuracy = accuracy_score(ytest, y_pred)\n",
    "precision = precision_score(ytest, y_pred)\n",
    "recall = recall_score(ytest, y_pred)\n",
    "f1 = f1_score(ytest, y_pred)\n",
    "\n",
    "print(\"Accuracy:\", accuracy)\n",
    "print(\"Precision:\", precision)\n",
    "print(\"Recall:\", recall)\n",
    "print(\"F1 Score:\", f1)\n",
    "# Calculate Jaccard Score\n",
    "jaccard = jaccard_score(ytest, y_pred)\n",
    "print(\"Jaccard Score:\", jaccard)\n",
    "\n",
    "# Calculate Cohen's Kappa Score\n",
    "kappa = cohen_kappa_score(ytest, y_pred)\n",
    "print(\"Cohen's Kappa Score:\", kappa)\n",
    "\n",
    "# Calculate Hamming Loss\n",
    "hamming = hamming_loss(ytest, y_pred)\n",
    "print(\"Hamming Loss:\", hamming)"
   ]
  },
  {
   "cell_type": "code",
   "execution_count": 120,
   "id": "b8fee906-9368-4037-9a2d-252cac6ea2fa",
   "metadata": {},
   "outputs": [
    {
     "data": {
      "image/png": "[encoded data removed]",
      "text/plain": [
       "<Figure size 350x300 with 1 Axes>"
      ]
     },
     "metadata": {},
     "output_type": "display_data"
    }
   ],
   "source": [
    "# Compute AUC-ROC Curve\n",
    "from sklearn.metrics import roc_curve, roc_auc_score\n",
    "fpr, tpr, thresholds = roc_curve(ytest, sehm.predict_proba(xtest.iloc[:, selected_features])[:, 1])\n",
    "auc_roc = roc_auc_score(ytest, sehm.predict_proba(xtest.iloc[:, selected_features])[:, 1])  # Compute AUC-ROC score\n",
    "plt.figure(figsize=(3.5, 3))\n",
    "plt.plot(fpr, tpr, label='MO-SEHM= {:.2f}'.format(auc_roc))\n",
    "plt.plot([0, 1], [0, 1], linestyle='--', color='black')\n",
    "plt.legend(loc='lower right')\n",
    "plt.savefig('MO-SEHM-AUC.pdf')  # Save AUC-ROC curve plot as PDF\n",
    "plt.show()"
   ]
  },
  {
   "cell_type": "code",
   "execution_count": 121,
   "id": "e998c668-e2d4-4c69-8171-c37c1100d9ff",
   "metadata": {},
   "outputs": [],
   "source": [
    "# Define a custom problem for NSGA-II\n",
    "class FeatureSelectionProblem(ElementwiseProblem):\n",
    "    def __init__(self, xtrain, ytrain, xtest, ytest, n_features):\n",
    "        super().__init__(n_var=n_features, n_obj=2, n_constr=0, xl=0, xu=1)\n",
    "        self.xtrain = xtrain\n",
    "        self.ytrain = ytrain\n",
    "        self.xtest = xtest\n",
    "        self.ytest = ytest\n",
    "\n",
    "    def _evaluate(self, x, out, *args, **kwargs):\n",
    "        selected_features = np.where(x >= 0.5)[0]\n",
    "        if len(selected_features) == 0:\n",
    "            out[\"F\"] = [1, 0]\n",
    "            return\n",
    "\n",
    "        classifier = RandomForestClassifier(max_depth=3)\n",
    "        classifier.fit(self.xtrain.iloc[:, selected_features], self.ytrain)\n",
    "        predictions = classifier.predict(self.xtest.iloc[:, selected_features])\n",
    "        accuracy = accuracy_score(self.ytest, predictions)\n",
    "\n",
    "        # Normalize objectives to [0, 1]\n",
    "        num_features = len(selected_features)\n",
    "        accuracy_normalized = -accuracy  # Negate for minimization\n",
    "\n",
    "        out[\"F\"] = [num_features, accuracy_normalized]"
   ]
  },
  {
   "cell_type": "code",
   "execution_count": 122,
   "id": "3fd45900-b25c-471e-b42d-7b8a97e135e3",
   "metadata": {},
   "outputs": [],
   "source": [
    "# Applying NSGA-II on all features\n",
    "problem_all = FeatureSelectionProblem(xtrain, ytrain, xtest, ytest, n_features=xtrain.shape[1])\n",
    "algorithm = NSGA2(pop_size=100, n_offsprings=10, eliminate_duplicates=True)\n",
    "res_all = minimize(problem_all, algorithm, ('n_gen', 100), verbose=False)\n",
    "pareto_front_all = res_all.F"
   ]
  },
  {
   "cell_type": "code",
   "execution_count": 126,
   "id": "fdfd2193-e170-46b9-b9c0-3e35bf265e40",
   "metadata": {},
   "outputs": [
    {
     "data": {
      "image/png": "[encoded data removed]",
      "text/plain": [
       "<Figure size 400x250 with 1 Axes>"
      ]
     },
     "metadata": {},
     "output_type": "display_data"
    }
   ],
   "source": [
    "# Plotting the Pareto fronts\n",
    "plt.figure(figsize=(4, 2.5))\n",
    "plt.scatter(pareto_front_all[:, 0], -pareto_front_all[:, 1], label='MO-RF', color='black')\n",
    "plt.legend(loc='lower right')\n",
    "plt.ylabel(\"Classification Accuracy\")\n",
    "plt.grid(True)\n",
    "plt.savefig(\"MO-RF.pdf\")\n",
    "plt.show()"
   ]
  },
  {
   "cell_type": "code",
   "execution_count": 127,
   "id": "7afada4d-332c-4d04-a9fb-59e8fb9c301e",
   "metadata": {},
   "outputs": [
    {
     "name": "stdout",
     "output_type": "stream",
     "text": [
      "Accuracies and numbers with All Features:\n",
      "[0.88034188 0.88034188 0.88888889 0.88034188 0.88888889 0.81196581\n",
      " 0.91452991 0.88888889 0.81196581 0.88888889 0.81196581 0.86324786\n",
      " 0.81196581 0.81196581 0.92307692 0.81196581 0.81196581 0.88034188\n",
      " 0.81196581 0.81196581 0.81196581 0.81196581 0.81196581 0.81196581\n",
      " 0.81196581 0.81196581 0.86324786 0.81196581 0.81196581 0.88034188\n",
      " 0.81196581 0.81196581 0.88888889 0.81196581 0.81196581 0.81196581\n",
      " 0.81196581 0.81196581 0.81196581 0.81196581 0.81196581 0.81196581\n",
      " 0.81196581 0.86324786 0.81196581 0.81196581 0.81196581 0.81196581\n",
      " 0.81196581 0.81196581 0.81196581 0.81196581]\n",
      "[3. 3. 5. 3. 5. 1. 6. 5. 1. 5. 1. 2. 1. 1. 7. 1. 1. 3. 1. 1. 1. 1. 1. 1.\n",
      " 1. 1. 2. 1. 1. 3. 1. 1. 5. 1. 1. 1. 1. 1. 1. 1. 1. 1. 1. 2. 1. 1. 1. 1.\n",
      " 1. 1. 1. 1.]\n"
     ]
    }
   ],
   "source": [
    "# Accuracies with All Features\n",
    "accuracies_all_features = -pareto_front_all[:, 1]\n",
    "numbers_all_features = pareto_front_all[:, 0]\n",
    "print(\"Accuracies and numbers with All Features:\")\n",
    "print(accuracies_all_features)\n",
    "print(numbers_all_features)"
   ]
  },
  {
   "cell_type": "code",
   "execution_count": 128,
   "id": "d94ed788-77ba-4d70-8fb9-506f5f45bf0b",
   "metadata": {},
   "outputs": [
    {
     "name": "stdout",
     "output_type": "stream",
     "text": [
      "\n",
      "Optimal Solution with All Features:\n",
      "Accuracy: 0.9230769230769231\n",
      "Number of Features: 7.0\n",
      "Selected features:\n",
      "Index(['age', 'diabetes', 'ejection_fraction', 'serum_creatinine', 'sex',\n",
      "       'time', 'creatinine_phosphokinase'],\n",
      "      dtype='object')\n"
     ]
    }
   ],
   "source": [
    "optimal_solution_index_all = np.argmin(pareto_front_all[:, 1])\n",
    "\n",
    "optimal_solution_all = pareto_front_all[optimal_solution_index_all, :]\n",
    "\n",
    "# Print the optimal solutions\n",
    "print(\"\\nOptimal Solution with All Features:\")\n",
    "print(\"Accuracy:\", -optimal_solution_all[1])\n",
    "print(\"Number of Features:\", optimal_solution_all[0])\n",
    "\n",
    "# Selected features with high accuracy\n",
    "selected_indices = np.argmax(accuracies_all_features)\n",
    "selected_features = np.where(res_all.X[selected_indices] >= 0.5)[0]\n",
    "selected_features_names = xtrain.columns[selected_features]  # Assuming xtrain is a DataFrame\n",
    "print(\"Selected features:\")\n",
    "print(selected_features_names)"
   ]
  },
  {
   "cell_type": "code",
   "execution_count": 134,
   "id": "89902097-ca3b-495d-9163-4c26b58e197e",
   "metadata": {},
   "outputs": [
    {
     "name": "stdout",
     "output_type": "stream",
     "text": [
      "Accuracy: 0.8888888888888888\n",
      "Precision: 0.8688524590163934\n",
      "Recall: 0.9137931034482759\n",
      "F1 Score: 0.8907563025210085\n",
      "Jaccard Score: 0.803030303030303\n",
      "Cohen's Kappa Score: 0.7778589163137141\n",
      "Hamming Loss: 0.1111111111111111\n"
     ]
    }
   ],
   "source": [
    "rf = RandomForestClassifier(max_depth=4)\n",
    "rf.fit(xtrain.iloc[:, selected_features], ytrain)\n",
    "y_pred = rf.predict(xtest.iloc[:, selected_features])\n",
    "\n",
    "accuracy = accuracy_score(ytest, y_pred)\n",
    "precision = precision_score(ytest, y_pred)\n",
    "recall = recall_score(ytest, y_pred)\n",
    "f1 = f1_score(ytest, y_pred)\n",
    "\n",
    "print(\"Accuracy:\", accuracy)\n",
    "print(\"Precision:\", precision)\n",
    "print(\"Recall:\", recall)\n",
    "print(\"F1 Score:\", f1)\n",
    "# Calculate Jaccard Score\n",
    "jaccard = jaccard_score(ytest, y_pred)\n",
    "print(\"Jaccard Score:\", jaccard)\n",
    "\n",
    "# Calculate Cohen's Kappa Score\n",
    "kappa = cohen_kappa_score(ytest, y_pred)\n",
    "print(\"Cohen's Kappa Score:\", kappa)\n",
    "\n",
    "# Calculate Hamming Loss\n",
    "hamming = hamming_loss(ytest, y_pred)\n",
    "print(\"Hamming Loss:\", hamming)"
   ]
  },
  {
   "cell_type": "code",
   "execution_count": 136,
   "id": "4c991352-2e75-47c0-9220-e3a4dfcc28d8",
   "metadata": {},
   "outputs": [
    {
     "data": {
      "image/png": "[encoded data removed]",
      "text/plain": [
       "<Figure size 350x300 with 1 Axes>"
      ]
     },
     "metadata": {},
     "output_type": "display_data"
    }
   ],
   "source": [
    "# Compute AUC-ROC Curve\n",
    "from sklearn.metrics import roc_curve, roc_auc_score\n",
    "fpr, tpr, thresholds = roc_curve(ytest, rf.predict_proba(xtest.iloc[:, selected_features])[:, 1])\n",
    "auc_roc = roc_auc_score(ytest, rf.predict_proba(xtest.iloc[:, selected_features])[:, 1])  # Compute AUC-ROC score\n",
    "plt.figure(figsize=(3.5, 3))\n",
    "plt.plot(fpr, tpr, label='MO-RF= {:.2f}'.format(auc_roc))\n",
    "plt.plot([0, 1], [0, 1], linestyle='--', color='black')\n",
    "plt.legend(loc='lower right')\n",
    "plt.savefig('MO-RF-AUC.pdf')  # Save AUC-ROC curve plot as PDF\n",
    "plt.show()"
   ]
  },
  {
   "cell_type": "code",
   "execution_count": 14,
   "id": "a1c66af5-359d-4401-95fd-10aa5b176266",
   "metadata": {},
   "outputs": [],
   "source": [
    "from sklearn.metrics import accuracy_score, precision_score, recall_score, f1_score, confusion_matrix, roc_auc_score, jaccard_score, cohen_kappa_score, hamming_loss\n",
    "import matplotlib.pyplot as plt\n",
    "import seaborn as sns"
   ]
  },
  {
   "cell_type": "code",
   "execution_count": 21,
   "id": "44530e78-7c2e-4ebf-bc94-ee4272ce99f9",
   "metadata": {},
   "outputs": [],
   "source": [
    "# Define a custom problem for NSGA-II\n",
    "class FeatureSelectionProblem(ElementwiseProblem):\n",
    "    def __init__(self, xtrain, ytrain, xtest, ytest, n_features):\n",
    "        super().__init__(n_var=n_features, n_obj=2, n_constr=0, xl=0, xu=1)\n",
    "        self.xtrain = xtrain\n",
    "        self.ytrain = ytrain\n",
    "        self.xtest = xtest\n",
    "        self.ytest = ytest\n",
    "\n",
    "    def _evaluate(self, x, out, *args, **kwargs):\n",
    "        selected_features = np.where(x >= 0.5)[0]\n",
    "        if len(selected_features) == 0:\n",
    "            out[\"F\"] = [1, 0]\n",
    "            return\n",
    "\n",
    "        classifier = KNeighborsClassifier(n_neighbors=1) \n",
    "        classifier.fit(self.xtrain.iloc[:, selected_features], self.ytrain)\n",
    "        predictions = classifier.predict(self.xtest.iloc[:, selected_features])\n",
    "        accuracy = accuracy_score(self.ytest, predictions)\n",
    "\n",
    "        # Normalize objectives to [0, 1]\n",
    "        num_features = len(selected_features)\n",
    "        accuracy_normalized = -accuracy  # Negate for minimization\n",
    "\n",
    "        out[\"F\"] = [num_features, accuracy_normalized]"
   ]
  },
  {
   "cell_type": "code",
   "execution_count": 22,
   "id": "c2473922-c017-4e79-97e8-15441cf302bf",
   "metadata": {},
   "outputs": [],
   "source": [
    "# Applying NSGA-II on all features\n",
    "problem_all = FeatureSelectionProblem(xtrain, ytrain, xtest, ytest, n_features=xtrain.shape[1])\n",
    "algorithm = NSGA2(pop_size=100, n_offsprings=10, eliminate_duplicates=True)\n",
    "res_all = minimize(problem_all, algorithm, ('n_gen', 100), verbose=False)\n",
    "pareto_front_all = res_all.F"
   ]
  },
  {
   "cell_type": "code",
   "execution_count": 24,
   "id": "6da9e4bd-5af9-4365-93d9-ff5f2c4f8069",
   "metadata": {},
   "outputs": [
    {
     "data": {
      "image/png": "[encoded data removed]",
      "text/plain": [
       "<Figure size 400x250 with 1 Axes>"
      ]
     },
     "metadata": {},
     "output_type": "display_data"
    }
   ],
   "source": [
    "# Plotting the Pareto fronts\n",
    "plt.figure(figsize=(4, 2.5))\n",
    "plt.scatter(pareto_front_all[:, 0], -pareto_front_all[:, 1], label='MO-KNN', color='black')\n",
    "plt.legend(loc='lower right')\n",
    "plt.ylabel(\"Classification Accuracy\")\n",
    "plt.grid(True)\n",
    "plt.savefig(\"MO-KNN.pdf\")\n",
    "plt.show()"
   ]
  },
  {
   "cell_type": "code",
   "execution_count": 25,
   "id": "a6715c64-0ebf-482e-b7a7-bf6c5ceae737",
   "metadata": {},
   "outputs": [
    {
     "name": "stdout",
     "output_type": "stream",
     "text": [
      "Accuracies and numbers with All Features:\n",
      "[0.92307692 0.8034188  0.8034188  0.92307692 0.88034188 0.88034188\n",
      " 0.92307692 0.88034188 0.88034188 0.88034188 0.92307692 0.88034188\n",
      " 0.92307692 0.88034188 0.92307692 0.92307692 0.88034188 0.8034188\n",
      " 0.92307692 0.92307692 0.92307692 0.88034188 0.8034188  0.92307692\n",
      " 0.88034188 0.88034188 0.92307692 0.88034188 0.92307692 0.92307692\n",
      " 0.92307692 0.88034188 0.92307692 0.88034188 0.88034188 0.88034188\n",
      " 0.92307692 0.92307692 0.92307692 0.88034188 0.92307692 0.88034188\n",
      " 0.92307692 0.92307692 0.88034188 0.88034188 0.92307692 0.92307692\n",
      " 0.88034188 0.8034188  0.92307692 0.92307692 0.8034188  0.88034188\n",
      " 0.92307692 0.92307692 0.88034188 0.88034188 0.88034188 0.88034188\n",
      " 0.92307692 0.92307692 0.88034188 0.92307692 0.88034188 0.92307692\n",
      " 0.8034188  0.92307692 0.92307692 0.92307692 0.88034188 0.92307692\n",
      " 0.92307692 0.88034188 0.92307692 0.88034188 0.88034188 0.92307692\n",
      " 0.92307692 0.92307692 0.8034188  0.88034188 0.88034188 0.92307692\n",
      " 0.88034188 0.92307692 0.88034188 0.88034188 0.92307692 0.88034188\n",
      " 0.88034188 0.92307692 0.88034188 0.92307692 0.92307692 0.92307692\n",
      " 0.88034188 0.88034188 0.88034188 0.88034188]\n",
      "[3. 1. 1. 3. 2. 2. 3. 2. 2. 2. 3. 2. 3. 2. 3. 3. 2. 1. 3. 3. 3. 2. 1. 3.\n",
      " 2. 2. 3. 2. 3. 3. 3. 2. 3. 2. 2. 2. 3. 3. 3. 2. 3. 2. 3. 3. 2. 2. 3. 3.\n",
      " 2. 1. 3. 3. 1. 2. 3. 3. 2. 2. 2. 2. 3. 3. 2. 3. 2. 3. 1. 3. 3. 3. 2. 3.\n",
      " 3. 2. 3. 2. 2. 3. 3. 3. 1. 2. 2. 3. 2. 3. 2. 2. 3. 2. 2. 3. 2. 3. 3. 3.\n",
      " 2. 2. 2. 2.]\n"
     ]
    }
   ],
   "source": [
    "# Accuracies with All Features\n",
    "accuracies_all_features = -pareto_front_all[:, 1]\n",
    "numbers_all_features = pareto_front_all[:, 0]\n",
    "print(\"Accuracies and numbers with All Features:\")\n",
    "print(accuracies_all_features)\n",
    "print(numbers_all_features)"
   ]
  },
  {
   "cell_type": "code",
   "execution_count": 26,
   "id": "30ba6987-bf2a-453e-97cf-4275d94758c9",
   "metadata": {},
   "outputs": [
    {
     "name": "stdout",
     "output_type": "stream",
     "text": [
      "\n",
      "Optimal Solution with All Features:\n",
      "Accuracy: 0.9230769230769231\n",
      "Number of Features: 3.0\n",
      "Selected features:\n",
      "Index(['ejection_fraction', 'serum_sodium', 'time'], dtype='object')\n"
     ]
    }
   ],
   "source": [
    "optimal_solution_index_all = np.argmin(pareto_front_all[:, 1])\n",
    "\n",
    "optimal_solution_all = pareto_front_all[optimal_solution_index_all, :]\n",
    "\n",
    "# Print the optimal solutions\n",
    "print(\"\\nOptimal Solution with All Features:\")\n",
    "print(\"Accuracy:\", -optimal_solution_all[1])\n",
    "print(\"Number of Features:\", optimal_solution_all[0])\n",
    "\n",
    "# Selected features with high accuracy\n",
    "selected_indices = np.argmax(accuracies_all_features)\n",
    "selected_features = np.where(res_all.X[selected_indices] >= 0.5)[0]\n",
    "selected_features_names = xtrain.columns[selected_features]  # Assuming xtrain is a DataFrame\n",
    "print(\"Selected features:\")\n",
    "print(selected_features_names)"
   ]
  },
  {
   "cell_type": "code",
   "execution_count": 27,
   "id": "3ae9cfa4-a560-4706-971b-e45069b93596",
   "metadata": {},
   "outputs": [
    {
     "name": "stdout",
     "output_type": "stream",
     "text": [
      "Accuracy: 0.9230769230769231\n",
      "Precision: 0.9152542372881356\n",
      "Recall: 0.9310344827586207\n",
      "F1 Score: 0.923076923076923\n",
      "Jaccard Score: 0.8571428571428571\n",
      "Cohen's Kappa Score: 0.8461650840029218\n",
      "Hamming Loss: 0.07692307692307693\n"
     ]
    }
   ],
   "source": [
    "rf = KNeighborsClassifier(n_neighbors=1)\n",
    "rf.fit(xtrain.iloc[:, selected_features], ytrain)\n",
    "y_pred = rf.predict(xtest.iloc[:, selected_features])\n",
    "\n",
    "accuracy = accuracy_score(ytest, y_pred)\n",
    "precision = precision_score(ytest, y_pred)\n",
    "recall = recall_score(ytest, y_pred)\n",
    "f1 = f1_score(ytest, y_pred)\n",
    "\n",
    "print(\"Accuracy:\", accuracy)\n",
    "print(\"Precision:\", precision)\n",
    "print(\"Recall:\", recall)\n",
    "print(\"F1 Score:\", f1)\n",
    "# Calculate Jaccard Score\n",
    "jaccard = jaccard_score(ytest, y_pred)\n",
    "print(\"Jaccard Score:\", jaccard)\n",
    "\n",
    "# Calculate Cohen's Kappa Score\n",
    "kappa = cohen_kappa_score(ytest, y_pred)\n",
    "print(\"Cohen's Kappa Score:\", kappa)\n",
    "\n",
    "# Calculate Hamming Loss\n",
    "hamming = hamming_loss(ytest, y_pred)\n",
    "print(\"Hamming Loss:\", hamming)"
   ]
  },
  {
   "cell_type": "code",
   "execution_count": 28,
   "id": "1de53b29-ef4d-4679-bc70-eabdab07a92f",
   "metadata": {},
   "outputs": [
    {
     "data": {
      "image/png": "[encoded data removed]",
      "text/plain": [
       "<Figure size 350x300 with 1 Axes>"
      ]
     },
     "metadata": {},
     "output_type": "display_data"
    }
   ],
   "source": [
    "# Compute AUC-ROC Curve\n",
    "from sklearn.metrics import roc_curve, roc_auc_score\n",
    "fpr, tpr, thresholds = roc_curve(ytest, rf.predict_proba(xtest.iloc[:, selected_features])[:, 1])\n",
    "auc_roc = roc_auc_score(ytest, rf.predict_proba(xtest.iloc[:, selected_features])[:, 1])  # Compute AUC-ROC score\n",
    "plt.figure(figsize=(3.5, 3))\n",
    "plt.plot(fpr, tpr, label='MO-KNN= {:.2f}'.format(auc_roc))\n",
    "plt.plot([0, 1], [0, 1], linestyle='--', color='black')\n",
    "plt.legend(loc='lower right')\n",
    "plt.savefig('MO-KNN-AUC.pdf')  # Save AUC-ROC curve plot as PDF\n",
    "plt.show()"
   ]
  },
  {
   "cell_type": "code",
   "execution_count": 36,
   "id": "84995043-b669-4720-acbb-6e8fe883c3f1",
   "metadata": {},
   "outputs": [],
   "source": [
    "class FeatureSelectionProblem(ElementwiseProblem):\n",
    "    def __init__(self, xtrain, ytrain, xtest, ytest, n_features):\n",
    "        super().__init__(n_var=n_features, n_obj=2, n_constr=0, xl=0, xu=1)\n",
    "        self.xtrain = xtrain\n",
    "        self.ytrain = ytrain\n",
    "        self.xtest = xtest\n",
    "        self.ytest = ytest\n",
    "\n",
    "    def _evaluate(self, x, out, *args, **kwargs):\n",
    "        selected_features = np.where(x >= 0.5)[0]\n",
    "        if len(selected_features) == 0:\n",
    "            out[\"F\"] = [1, 0]\n",
    "            return\n",
    "\n",
    "        classifier = DecisionTreeClassifier(criterion='entropy',max_depth=8,random_state=5)\n",
    "        classifier.fit(self.xtrain.iloc[:, selected_features], self.ytrain)\n",
    "        predictions = classifier.predict(self.xtest.iloc[:, selected_features])\n",
    "        accuracy = accuracy_score(self.ytest, predictions)\n",
    "\n",
    "        # Normalize objectives to [0, 1]\n",
    "        num_features = len(selected_features)\n",
    "        accuracy_normalized = -accuracy  # Negate for minimization\n",
    "\n",
    "        out[\"F\"] = [num_features, accuracy_normalized]"
   ]
  },
  {
   "cell_type": "code",
   "execution_count": 37,
   "id": "1e410981-690e-4ee9-a0d5-ccbb345432af",
   "metadata": {},
   "outputs": [],
   "source": [
    "# Applying NSGA-II on all features\n",
    "problem_all = FeatureSelectionProblem(xtrain, ytrain, xtest, ytest, n_features=xtrain.shape[1])\n",
    "algorithm = NSGA2(pop_size=100, n_offsprings=10, eliminate_duplicates=True)\n",
    "res_all = minimize(problem_all, algorithm, ('n_gen', 100), verbose=False)\n",
    "pareto_front_all = res_all.F"
   ]
  },
  {
   "cell_type": "code",
   "execution_count": 38,
   "id": "6d0ca1d9-7882-4c41-b59c-df8967ccddc5",
   "metadata": {},
   "outputs": [
    {
     "data": {
      "image/png": "[encoded data removed]",
      "text/plain": [
       "<Figure size 400x250 with 1 Axes>"
      ]
     },
     "metadata": {},
     "output_type": "display_data"
    }
   ],
   "source": [
    "# Plotting the Pareto fronts\n",
    "plt.figure(figsize=(4, 2.5))\n",
    "plt.scatter(pareto_front_all[:, 0], -pareto_front_all[:, 1], label='MO-SVM', color='black')\n",
    "plt.legend(loc='lower right')\n",
    "plt.ylabel(\"Classification Accuracy\")\n",
    "plt.grid(True)\n",
    "plt.savefig(\"MO-SVM.pdf\")\n",
    "plt.show()"
   ]
  },
  {
   "cell_type": "code",
   "execution_count": 39,
   "id": "3e4a8c98-7d7d-4420-8b77-6a914664bb66",
   "metadata": {},
   "outputs": [
    {
     "name": "stdout",
     "output_type": "stream",
     "text": [
      "Accuracies and numbers with All Features:\n",
      "[0.88596491 0.79824561 0.79824561 0.88596491 0.84210526 0.86842105\n",
      " 0.87719298 0.85087719 0.85087719 0.84210526 0.86842105 0.87719298\n",
      " 0.85087719 0.87719298 0.84210526 0.84210526 0.86842105 0.85087719\n",
      " 0.86842105 0.88596491 0.85087719 0.86842105 0.79824561 0.85087719\n",
      " 0.85087719 0.86842105 0.85087719 0.86842105 0.84210526 0.84210526\n",
      " 0.87719298 0.86842105 0.85087719 0.85087719 0.84210526 0.84210526\n",
      " 0.85087719 0.85087719 0.79824561 0.85087719 0.84210526 0.86842105\n",
      " 0.86842105 0.87719298 0.86842105 0.84210526 0.87719298 0.84210526\n",
      " 0.87719298 0.85087719 0.85087719 0.86842105 0.85087719 0.85087719\n",
      " 0.85087719 0.84210526 0.85087719 0.86842105 0.85087719 0.85087719\n",
      " 0.86842105 0.87719298 0.84210526 0.84210526 0.85087719 0.84210526\n",
      " 0.85087719 0.85087719 0.85087719 0.85087719 0.85087719 0.84210526\n",
      " 0.84210526 0.85087719 0.88596491 0.84210526 0.88596491 0.86842105\n",
      " 0.84210526 0.86842105 0.86842105 0.86842105 0.85087719 0.86842105\n",
      " 0.86842105 0.84210526 0.86842105 0.86842105 0.85087719 0.85087719\n",
      " 0.85087719 0.85087719 0.88596491 0.85087719 0.84210526 0.86842105\n",
      " 0.84210526 0.85087719 0.84210526 0.85087719]\n",
      "[7. 1. 1. 7. 2. 4. 6. 3. 3. 2. 4. 6. 3. 6. 2. 2. 4. 3. 4. 7. 3. 4. 1. 3.\n",
      " 3. 4. 3. 4. 2. 2. 6. 4. 3. 3. 2. 2. 3. 3. 1. 3. 2. 4. 4. 6. 4. 2. 6. 2.\n",
      " 6. 3. 3. 4. 3. 3. 3. 2. 3. 4. 3. 3. 4. 6. 2. 2. 3. 2. 3. 3. 3. 3. 3. 2.\n",
      " 2. 3. 7. 2. 7. 4. 2. 4. 4. 4. 3. 4. 4. 2. 4. 4. 3. 3. 3. 3. 7. 3. 2. 4.\n",
      " 2. 3. 2. 3.]\n"
     ]
    }
   ],
   "source": [
    "# Accuracies with All Features\n",
    "accuracies_all_features = -pareto_front_all[:, 1]\n",
    "numbers_all_features = pareto_front_all[:, 0]\n",
    "print(\"Accuracies and numbers with All Features:\")\n",
    "print(accuracies_all_features)\n",
    "print(numbers_all_features)"
   ]
  },
  {
   "cell_type": "code",
   "execution_count": 40,
   "id": "0831b130-9aa9-4de2-9e44-321774b04844",
   "metadata": {},
   "outputs": [
    {
     "name": "stdout",
     "output_type": "stream",
     "text": [
      "\n",
      "Optimal Solution with All Features:\n",
      "Accuracy: 0.8859649122807017\n",
      "Number of Features: 7.0\n",
      "Selected features:\n",
      "Index(['anaemia', 'serum_creatinine', 'serum_sodium', 'sex', 'smoking', 'time',\n",
      "       'creatinine_phosphokinase'],\n",
      "      dtype='object')\n"
     ]
    }
   ],
   "source": [
    "optimal_solution_index_all = np.argmin(pareto_front_all[:, 1])\n",
    "\n",
    "optimal_solution_all = pareto_front_all[optimal_solution_index_all, :]\n",
    "\n",
    "# Print the optimal solutions\n",
    "print(\"\\nOptimal Solution with All Features:\")\n",
    "print(\"Accuracy:\", -optimal_solution_all[1])\n",
    "print(\"Number of Features:\", optimal_solution_all[0])\n",
    "\n",
    "# Selected features with high accuracy\n",
    "selected_indices = np.argmax(accuracies_all_features)\n",
    "selected_features = np.where(res_all.X[selected_indices] >= 0.5)[0]\n",
    "selected_features_names = xtrain.columns[selected_features]  # Assuming xtrain is a DataFrame\n",
    "print(\"Selected features:\")\n",
    "print(selected_features_names)"
   ]
  },
  {
   "cell_type": "code",
   "execution_count": 41,
   "id": "67b29a01-219e-45e9-a424-8171f517dc40",
   "metadata": {},
   "outputs": [
    {
     "name": "stdout",
     "output_type": "stream",
     "text": [
      "Accuracy: 0.8859649122807017\n",
      "Precision: 0.8666666666666667\n",
      "Recall: 0.9122807017543859\n",
      "F1 Score: 0.8888888888888888\n",
      "Jaccard Score: 0.8\n",
      "Cohen's Kappa Score: 0.7719298245614035\n",
      "Hamming Loss: 0.11403508771929824\n"
     ]
    }
   ],
   "source": [
    "rf = DecisionTreeClassifier(criterion='entropy',max_depth=8,random_state=5)\n",
    "rf.fit(xtrain.iloc[:, selected_features], ytrain)\n",
    "y_pred = rf.predict(xtest.iloc[:, selected_features])\n",
    "\n",
    "accuracy = accuracy_score(ytest, y_pred)\n",
    "precision = precision_score(ytest, y_pred)\n",
    "recall = recall_score(ytest, y_pred)\n",
    "f1 = f1_score(ytest, y_pred)\n",
    "\n",
    "print(\"Accuracy:\", accuracy)\n",
    "print(\"Precision:\", precision)\n",
    "print(\"Recall:\", recall)\n",
    "print(\"F1 Score:\", f1)\n",
    "# Calculate Jaccard Score\n",
    "jaccard = jaccard_score(ytest, y_pred)\n",
    "print(\"Jaccard Score:\", jaccard)\n",
    "\n",
    "# Calculate Cohen's Kappa Score\n",
    "kappa = cohen_kappa_score(ytest, y_pred)\n",
    "print(\"Cohen's Kappa Score:\", kappa)\n",
    "\n",
    "# Calculate Hamming Loss\n",
    "hamming = hamming_loss(ytest, y_pred)\n",
    "print(\"Hamming Loss:\", hamming)"
   ]
  },
  {
   "cell_type": "code",
   "execution_count": 42,
   "id": "03f6f34a-f426-4dec-a51f-eb48a63f6a9e",
   "metadata": {},
   "outputs": [
    {
     "data": {
      "image/png": "[encoded data removed]",
      "text/plain": [
       "<Figure size 350x300 with 1 Axes>"
      ]
     },
     "metadata": {},
     "output_type": "display_data"
    }
   ],
   "source": [
    "# Compute AUC-ROC Curve\n",
    "from sklearn.metrics import roc_curve, roc_auc_score\n",
    "fpr, tpr, thresholds = roc_curve(ytest, rf.predict_proba(xtest.iloc[:, selected_features])[:, 1])\n",
    "auc_roc = roc_auc_score(ytest, rf.predict_proba(xtest.iloc[:, selected_features])[:, 1])  # Compute AUC-ROC score\n",
    "plt.figure(figsize=(3.5, 3))\n",
    "plt.plot(fpr, tpr, label='MO-SVM= {:.2f}'.format(auc_roc))\n",
    "plt.plot([0, 1], [0, 1], linestyle='--', color='black')\n",
    "plt.legend(loc='lower right')\n",
    "plt.savefig('MO-SVM-AUC.pdf')  # Save AUC-ROC curve plot as PDF\n",
    "plt.show()"
   ]
  },
  {
   "cell_type": "code",
   "execution_count": 12,
   "id": "4ef441a6-c2dd-4da0-9116-277fedb06af6",
   "metadata": {},
   "outputs": [],
   "source": [
    "from sklearn.ensemble import ExtraTreesClassifier\n",
    "\n",
    "# Define a custom problem for NSGA-II\n",
    "class FeatureSelectionProblem(ElementwiseProblem):\n",
    "    def __init__(self, xtrain, ytrain, xtest, ytest, n_features):\n",
    "        super().__init__(n_var=n_features, n_obj=2, n_constr=0, xl=0, xu=1)\n",
    "        self.xtrain = xtrain\n",
    "        self.ytrain = ytrain\n",
    "        self.xtest = xtest\n",
    "        self.ytest = ytest\n",
    "\n",
    "    def _evaluate(self, x, out, *args, **kwargs):\n",
    "        selected_features = np.where(x >= 0.5)[0]\n",
    "        if len(selected_features) == 0:\n",
    "            out[\"F\"] = [1, 0]\n",
    "            return\n",
    "\n",
    "        classifier = ExtraTreesClassifier(n_estimators = 10)\n",
    "        classifier.fit(self.xtrain.iloc[:, selected_features], self.ytrain)\n",
    "        predictions = classifier.predict(self.xtest.iloc[:, selected_features])\n",
    "        accuracy = accuracy_score(self.ytest, predictions)\n",
    "\n",
    "        # Normalize objectives to [0, 1]\n",
    "        num_features = len(selected_features)\n",
    "        accuracy_normalized = -accuracy  # Negate for minimization\n",
    "\n",
    "        out[\"F\"] = [num_features, accuracy_normalized]"
   ]
  },
  {
   "cell_type": "code",
   "execution_count": 13,
   "id": "9ecf5b37-70a5-41de-8dbc-e376205526b5",
   "metadata": {},
   "outputs": [],
   "source": [
    "# Applying NSGA-II on all features\n",
    "problem_all = FeatureSelectionProblem(xtrain, ytrain, xtest, ytest, n_features=xtrain.shape[1])\n",
    "algorithm = NSGA2(pop_size=100, n_offsprings=10, eliminate_duplicates=True)\n",
    "res_all = minimize(problem_all, algorithm, ('n_gen', 100), verbose=False)\n",
    "pareto_front_all = res_all.F"
   ]
  },
  {
   "cell_type": "code",
   "execution_count": 14,
   "id": "e465641d-ff62-4260-a06f-8c3b7d136d5b",
   "metadata": {},
   "outputs": [
    {
     "data": {
      "image/png": "[encoded data removed]",
      "text/plain": [
       "<Figure size 400x250 with 1 Axes>"
      ]
     },
     "metadata": {},
     "output_type": "display_data"
    }
   ],
   "source": [
    "# Plotting the Pareto fronts\n",
    "plt.figure(figsize=(4, 2.5))\n",
    "plt.scatter(pareto_front_all[:, 0], -pareto_front_all[:, 1], label='MO-ET', color='black')\n",
    "plt.legend(loc='lower right')\n",
    "plt.ylabel(\"Classification Accuracy\")\n",
    "plt.grid(True)\n",
    "plt.savefig(\"MO-ET.pdf\")\n",
    "plt.show()"
   ]
  },
  {
   "cell_type": "code",
   "execution_count": 15,
   "id": "1b9d471b-0a6a-41fc-b168-43ab02f44ffa",
   "metadata": {},
   "outputs": [
    {
     "name": "stdout",
     "output_type": "stream",
     "text": [
      "Accuracies and numbers with All Features:\n",
      "[0.93859649 0.90350877 0.9122807  0.83333333 0.83333333]\n",
      "[4. 2. 3. 1. 1.]\n"
     ]
    }
   ],
   "source": [
    "# Accuracies with All Features\n",
    "accuracies_all_features = -pareto_front_all[:, 1]\n",
    "numbers_all_features = pareto_front_all[:, 0]\n",
    "print(\"Accuracies and numbers with All Features:\")\n",
    "print(accuracies_all_features)\n",
    "print(numbers_all_features)"
   ]
  },
  {
   "cell_type": "code",
   "execution_count": 16,
   "id": "582a8613-d0e1-4be8-8d00-cb6491ce04a3",
   "metadata": {},
   "outputs": [
    {
     "name": "stdout",
     "output_type": "stream",
     "text": [
      "\n",
      "Optimal Solution with All Features:\n",
      "Accuracy: 0.9385964912280702\n",
      "Number of Features: 4.0\n",
      "Selected features:\n",
      "Index(['ejection_fraction', 'serum_creatinine', 'serum_sodium', 'time'], dtype='object')\n"
     ]
    }
   ],
   "source": [
    "optimal_solution_index_all = np.argmin(pareto_front_all[:, 1])\n",
    "\n",
    "optimal_solution_all = pareto_front_all[optimal_solution_index_all, :]\n",
    "\n",
    "# Print the optimal solutions\n",
    "print(\"\\nOptimal Solution with All Features:\")\n",
    "print(\"Accuracy:\", -optimal_solution_all[1])\n",
    "print(\"Number of Features:\", optimal_solution_all[0])\n",
    "\n",
    "# Selected features with high accuracy\n",
    "selected_indices = np.argmax(accuracies_all_features)\n",
    "selected_features = np.where(res_all.X[selected_indices] >= 0.5)[0]\n",
    "selected_features_names = xtrain.columns[selected_features]  # Assuming xtrain is a DataFrame\n",
    "print(\"Selected features:\")\n",
    "print(selected_features_names)"
   ]
  },
  {
   "cell_type": "code",
   "execution_count": 23,
   "id": "b3254f0c-899e-4075-96ed-9ad4b077b61d",
   "metadata": {},
   "outputs": [
    {
     "name": "stdout",
     "output_type": "stream",
     "text": [
      "Accuracy: 0.9035087719298246\n",
      "Precision: 0.9423076923076923\n",
      "Recall: 0.8596491228070176\n",
      "F1 Score: 0.8990825688073394\n",
      "Jaccard Score: 0.8166666666666667\n",
      "Cohen's Kappa Score: 0.8070175438596492\n",
      "Hamming Loss: 0.09649122807017543\n"
     ]
    }
   ],
   "source": [
    "rf = ExtraTreesClassifier()\n",
    "rf.fit(xtrain.iloc[:, selected_features], ytrain)\n",
    "y_pred = rf.predict(xtest.iloc[:, selected_features])\n",
    "\n",
    "accuracy = accuracy_score(ytest, y_pred)\n",
    "precision = precision_score(ytest, y_pred)\n",
    "recall = recall_score(ytest, y_pred)\n",
    "f1 = f1_score(ytest, y_pred)\n",
    "\n",
    "print(\"Accuracy:\", accuracy)\n",
    "print(\"Precision:\", precision)\n",
    "print(\"Recall:\", recall)\n",
    "print(\"F1 Score:\", f1)\n",
    "# Calculate Jaccard Score\n",
    "jaccard = jaccard_score(ytest, y_pred)\n",
    "print(\"Jaccard Score:\", jaccard)\n",
    "\n",
    "# Calculate Cohen's Kappa Score\n",
    "kappa = cohen_kappa_score(ytest, y_pred)\n",
    "print(\"Cohen's Kappa Score:\", kappa)\n",
    "\n",
    "# Calculate Hamming Loss\n",
    "hamming = hamming_loss(ytest, y_pred)\n",
    "print(\"Hamming Loss:\", hamming)"
   ]
  },
  {
   "cell_type": "code",
   "execution_count": 24,
   "id": "18241d2f-eb59-43d1-bdd6-11c66edcdc0b",
   "metadata": {},
   "outputs": [
    {
     "data": {
      "image/png": "[encoded data removed]",
      "text/plain": [
       "<Figure size 350x300 with 1 Axes>"
      ]
     },
     "metadata": {},
     "output_type": "display_data"
    }
   ],
   "source": [
    "# Compute AUC-ROC Curve\n",
    "from sklearn.metrics import roc_curve, roc_auc_score\n",
    "fpr, tpr, thresholds = roc_curve(ytest, rf.predict_proba(xtest.iloc[:, selected_features])[:, 1])\n",
    "auc_roc = roc_auc_score(ytest, rf.predict_proba(xtest.iloc[:, selected_features])[:, 1])  # Compute AUC-ROC score\n",
    "plt.figure(figsize=(3.5, 3))\n",
    "plt.plot(fpr, tpr, label='MO-ET= {:.2f}'.format(auc_roc))\n",
    "plt.plot([0, 1], [0, 1], linestyle='--', color='black')\n",
    "plt.legend(loc='lower right')\n",
    "plt.savefig('MO-ET-AUC.pdf')  # Save AUC-ROC curve plot as PDF\n",
    "plt.show()"
   ]
  },
  {
   "cell_type": "code",
   "execution_count": 28,
   "id": "2098bf53-0d94-46e5-b880-09c14085f913",
   "metadata": {},
   "outputs": [],
   "source": [
    "\n",
    "class FeatureSelectionProblem(ElementwiseProblem):\n",
    "    def __init__(self, xtrain, ytrain, xtest, ytest, n_features):\n",
    "        super().__init__(n_var=n_features, n_obj=2, n_constr=0, xl=0, xu=1)\n",
    "        self.xtrain = xtrain\n",
    "        self.ytrain = ytrain\n",
    "        self.xtest = xtest\n",
    "        self.ytest = ytest\n",
    "\n",
    "    def _evaluate(self, x, out, *args, **kwargs):\n",
    "        selected_features = np.where(x >= 0.5)[0]\n",
    "        if len(selected_features) == 0:\n",
    "            out[\"F\"] = [1, 0]\n",
    "            return\n",
    "\n",
    "        classifier = DecisionTreeClassifier(criterion='entropy',max_depth=5,random_state=5)\n",
    "        classifier.fit(self.xtrain.iloc[:, selected_features], self.ytrain)\n",
    "        predictions = classifier.predict(self.xtest.iloc[:, selected_features])\n",
    "        accuracy = accuracy_score(self.ytest, predictions)\n",
    "\n",
    "        # Normalize objectives to [0, 1]\n",
    "        num_features = len(selected_features)\n",
    "        accuracy_normalized = -accuracy  # Negate for minimization\n",
    "\n",
    "        out[\"F\"] = [num_features, accuracy_normalized]"
   ]
  },
  {
   "cell_type": "code",
   "execution_count": 29,
   "id": "942e376e-8788-4f30-92c3-e35bd765e139",
   "metadata": {},
   "outputs": [],
   "source": [
    "# Applying NSGA-II on all features\n",
    "problem_all = FeatureSelectionProblem(xtrain, ytrain, xtest, ytest, n_features=xtrain.shape[1])\n",
    "algorithm = NSGA2(pop_size=100, n_offsprings=10, eliminate_duplicates=True)\n",
    "res_all = minimize(problem_all, algorithm, ('n_gen', 100), verbose=False)\n",
    "pareto_front_all = res_all.F"
   ]
  },
  {
   "cell_type": "code",
   "execution_count": 30,
   "id": "444d6b66-2439-4478-b444-9053f88e88ea",
   "metadata": {},
   "outputs": [
    {
     "data": {
      "image/png": "[encoded data removed]",
      "text/plain": [
       "<Figure size 400x250 with 1 Axes>"
      ]
     },
     "metadata": {},
     "output_type": "display_data"
    }
   ],
   "source": [
    "# Plotting the Pareto fronts\n",
    "plt.figure(figsize=(4, 2.5))\n",
    "plt.scatter(pareto_front_all[:, 0], -pareto_front_all[:, 1], label='MO-DT', color='black')\n",
    "plt.legend(loc='lower right')\n",
    "plt.ylabel(\"Classification Accuracy\")\n",
    "plt.grid(True)\n",
    "plt.savefig(\"MO-DT.pdf\")\n",
    "plt.show()"
   ]
  },
  {
   "cell_type": "code",
   "execution_count": 31,
   "id": "be0ebc58-844c-4a30-8856-6a4463cd0a4a",
   "metadata": {},
   "outputs": [
    {
     "name": "stdout",
     "output_type": "stream",
     "text": [
      "Accuracies and numbers with All Features:\n",
      "[0.75438596 0.75438596 0.89473684 0.89473684 0.80701754 0.85964912\n",
      " 0.80701754 0.87719298 0.85964912 0.88596491 0.88596491 0.87719298\n",
      " 0.80701754 0.88596491 0.88596491 0.88596491 0.75438596 0.88596491\n",
      " 0.85964912 0.80701754 0.85964912 0.75438596 0.80701754 0.75438596\n",
      " 0.85964912 0.85964912 0.85964912 0.75438596 0.88596491 0.85964912\n",
      " 0.80701754 0.88596491 0.85964912 0.85964912 0.75438596 0.80701754\n",
      " 0.80701754 0.88596491 0.85964912 0.88596491 0.85964912 0.85964912\n",
      " 0.75438596 0.80701754 0.80701754 0.80701754 0.80701754 0.80701754\n",
      " 0.85964912 0.89473684 0.85964912 0.88596491 0.85964912 0.85964912\n",
      " 0.85964912 0.85964912 0.85964912 0.89473684 0.85964912 0.85964912\n",
      " 0.88596491 0.85964912 0.80701754 0.80701754 0.80701754 0.85964912\n",
      " 0.89473684 0.80701754 0.80701754 0.85964912 0.80701754 0.80701754\n",
      " 0.80701754 0.80701754 0.85964912 0.80701754 0.80701754 0.75438596\n",
      " 0.85964912 0.80701754 0.80701754 0.88596491 0.88596491 0.75438596\n",
      " 0.87719298 0.85964912 0.85964912 0.80701754 0.85964912 0.85964912\n",
      " 0.85964912 0.80701754 0.80701754 0.75438596 0.85964912 0.80701754\n",
      " 0.85964912 0.85964912 0.85964912 0.89473684]\n",
      "[1. 1. 6. 6. 2. 3. 2. 4. 3. 5. 5. 4. 2. 5. 5. 5. 1. 5. 3. 2. 3. 1. 2. 1.\n",
      " 3. 3. 3. 1. 5. 3. 2. 5. 3. 3. 1. 2. 2. 5. 3. 5. 3. 3. 1. 2. 2. 2. 2. 2.\n",
      " 3. 6. 3. 5. 3. 3. 3. 3. 3. 6. 3. 3. 5. 3. 2. 2. 2. 3. 6. 2. 2. 3. 2. 2.\n",
      " 2. 2. 3. 2. 2. 1. 3. 2. 2. 5. 5. 1. 4. 3. 3. 2. 3. 3. 3. 2. 2. 1. 3. 2.\n",
      " 3. 3. 3. 6.]\n"
     ]
    }
   ],
   "source": [
    "# Accuracies with All Features\n",
    "accuracies_all_features = -pareto_front_all[:, 1]\n",
    "numbers_all_features = pareto_front_all[:, 0]\n",
    "print(\"Accuracies and numbers with All Features:\")\n",
    "print(accuracies_all_features)\n",
    "print(numbers_all_features)"
   ]
  },
  {
   "cell_type": "code",
   "execution_count": 32,
   "id": "27465d37-e4bf-4173-9209-4c8c96d1a70c",
   "metadata": {},
   "outputs": [
    {
     "name": "stdout",
     "output_type": "stream",
     "text": [
      "\n",
      "Optimal Solution with All Features:\n",
      "Accuracy: 0.8947368421052632\n",
      "Number of Features: 6.0\n",
      "Selected features:\n",
      "Index(['diabetes', 'serum_creatinine', 'sex', 'smoking', 'time',\n",
      "       'creatinine_phosphokinase'],\n",
      "      dtype='object')\n"
     ]
    }
   ],
   "source": [
    "optimal_solution_index_all = np.argmin(pareto_front_all[:, 1])\n",
    "\n",
    "optimal_solution_all = pareto_front_all[optimal_solution_index_all, :]\n",
    "\n",
    "# Print the optimal solutions\n",
    "print(\"\\nOptimal Solution with All Features:\")\n",
    "print(\"Accuracy:\", -optimal_solution_all[1])\n",
    "print(\"Number of Features:\", optimal_solution_all[0])\n",
    "\n",
    "# Selected features with high accuracy\n",
    "selected_indices = np.argmax(accuracies_all_features)\n",
    "selected_features = np.where(res_all.X[selected_indices] >= 0.5)[0]\n",
    "selected_features_names = xtrain.columns[selected_features]  # Assuming xtrain is a DataFrame\n",
    "print(\"Selected features:\")\n",
    "print(selected_features_names)"
   ]
  },
  {
   "cell_type": "code",
   "execution_count": 34,
   "id": "04405700-b279-4608-9a0b-2374f4ebcb45",
   "metadata": {},
   "outputs": [
    {
     "name": "stdout",
     "output_type": "stream",
     "text": [
      "Accuracy: 0.8947368421052632\n",
      "Precision: 0.8688524590163934\n",
      "Recall: 0.9298245614035088\n",
      "F1 Score: 0.8983050847457625\n",
      "Jaccard Score: 0.8153846153846154\n",
      "Cohen's Kappa Score: 0.7894736842105263\n",
      "Hamming Loss: 0.10526315789473684\n"
     ]
    }
   ],
   "source": [
    "rf = DecisionTreeClassifier(criterion='entropy',max_depth=8,random_state=5)\n",
    "rf.fit(xtrain.iloc[:, selected_features], ytrain)\n",
    "y_pred = rf.predict(xtest.iloc[:, selected_features])\n",
    "\n",
    "accuracy = accuracy_score(ytest, y_pred)\n",
    "precision = precision_score(ytest, y_pred)\n",
    "recall = recall_score(ytest, y_pred)\n",
    "f1 = f1_score(ytest, y_pred)\n",
    "\n",
    "print(\"Accuracy:\", accuracy)\n",
    "print(\"Precision:\", precision)\n",
    "print(\"Recall:\", recall)\n",
    "print(\"F1 Score:\", f1)\n",
    "# Calculate Jaccard Score\n",
    "jaccard = jaccard_score(ytest, y_pred)\n",
    "print(\"Jaccard Score:\", jaccard)\n",
    "\n",
    "# Calculate Cohen's Kappa Score\n",
    "kappa = cohen_kappa_score(ytest, y_pred)\n",
    "print(\"Cohen's Kappa Score:\", kappa)\n",
    "\n",
    "# Calculate Hamming Loss\n",
    "hamming = hamming_loss(ytest, y_pred)\n",
    "print(\"Hamming Loss:\", hamming)"
   ]
  },
  {
   "cell_type": "code",
   "execution_count": 35,
   "id": "fb9261f1-a6ec-43a6-91a5-9ca49b7fd32b",
   "metadata": {},
   "outputs": [
    {
     "data": {
      "image/png": "[encoded data removed]",
      "text/plain": [
       "<Figure size 350x300 with 1 Axes>"
      ]
     },
     "metadata": {},
     "output_type": "display_data"
    }
   ],
   "source": [
    "# Compute AUC-ROC Curve\n",
    "from sklearn.metrics import roc_curve, roc_auc_score\n",
    "fpr, tpr, thresholds = roc_curve(ytest, rf.predict_proba(xtest.iloc[:, selected_features])[:, 1])\n",
    "auc_roc = roc_auc_score(ytest, rf.predict_proba(xtest.iloc[:, selected_features])[:, 1])  # Compute AUC-ROC score\n",
    "plt.figure(figsize=(3.5, 3))\n",
    "plt.plot(fpr, tpr, label='MO-DT= {:.2f}'.format(auc_roc))\n",
    "plt.plot([0, 1], [0, 1], linestyle='--', color='black')\n",
    "plt.legend(loc='lower right')\n",
    "plt.savefig('MO-DT-AUC.pdf')  # Save AUC-ROC curve plot as PDF\n",
    "plt.show()"
   ]
  },
  {
   "cell_type": "code",
   "execution_count": null,
   "id": "2273d7d4-9240-44eb-af75-7d7e3644edd4",
   "metadata": {},
   "outputs": [],
   "source": []
  }
 ],
 "metadata": {
  "kernelspec": {
   "display_name": "Python 3 (ipykernel)",
   "language": "python",
   "name": "python3"
  },
  "language_info": {
   "codemirror_mode": {
    "name": "ipython",
    "version": 3
   },
   "file_extension": ".py",
   "mimetype": "text/x-python",
   "name": "python",
   "nbconvert_exporter": "python",
   "pygments_lexer": "ipython3",
   "version": "3.9.19"
  }
 },
 "nbformat": 4,
 "nbformat_minor": 5
}
